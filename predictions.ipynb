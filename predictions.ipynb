{
 "cells": [
  {
   "cell_type": "code",
   "execution_count": 1,
   "id": "b718d6a0",
   "metadata": {},
   "outputs": [],
   "source": [
    "import pandas as pd\n",
    "import numpy as np"
   ]
  },
  {
   "cell_type": "code",
   "execution_count": 2,
   "id": "05b373ca",
   "metadata": {},
   "outputs": [],
   "source": [
    "train = pd.read_csv('matches.csv')"
   ]
  },
  {
   "cell_type": "code",
   "execution_count": 3,
   "id": "cda3b09d",
   "metadata": {},
   "outputs": [],
   "source": [
    "test = pd.read_csv('val.csv')"
   ]
  },
  {
   "cell_type": "code",
   "execution_count": 4,
   "id": "a8ac9ba9",
   "metadata": {},
   "outputs": [
    {
     "data": {
      "text/plain": [
       "(1878, 9)"
      ]
     },
     "execution_count": 4,
     "metadata": {},
     "output_type": "execute_result"
    }
   ],
   "source": [
    "train.shape"
   ]
  },
  {
   "cell_type": "code",
   "execution_count": 5,
   "id": "8660423a",
   "metadata": {},
   "outputs": [
    {
     "data": {
      "text/plain": [
       "(89, 9)"
      ]
     },
     "execution_count": 5,
     "metadata": {},
     "output_type": "execute_result"
    }
   ],
   "source": [
    "test.shape"
   ]
  },
  {
   "cell_type": "code",
   "execution_count": null,
   "id": "f408711c",
   "metadata": {},
   "outputs": [],
   "source": []
  },
  {
   "cell_type": "code",
   "execution_count": 6,
   "id": "1fc52f89",
   "metadata": {},
   "outputs": [
    {
     "data": {
      "text/html": [
       "<div>\n",
       "<style scoped>\n",
       "    .dataframe tbody tr th:only-of-type {\n",
       "        vertical-align: middle;\n",
       "    }\n",
       "\n",
       "    .dataframe tbody tr th {\n",
       "        vertical-align: top;\n",
       "    }\n",
       "\n",
       "    .dataframe thead th {\n",
       "        text-align: right;\n",
       "    }\n",
       "</style>\n",
       "<table border=\"1\" class=\"dataframe\">\n",
       "  <thead>\n",
       "    <tr style=\"text-align: right;\">\n",
       "      <th></th>\n",
       "      <th>Berlin</th>\n",
       "      <th>Frankfurt</th>\n",
       "      <th>2-1</th>\n",
       "      <th>2.21</th>\n",
       "      <th>3.05</th>\n",
       "      <th>2.92</th>\n",
       "      <th>1.31</th>\n",
       "      <th>2.72</th>\n",
       "      <th>13:18</th>\n",
       "    </tr>\n",
       "  </thead>\n",
       "  <tbody>\n",
       "    <tr>\n",
       "      <th>0</th>\n",
       "      <td>ΔικέφαλοςΒορρά</td>\n",
       "      <td>Μπαρτσελόνα</td>\n",
       "      <td>0-2</td>\n",
       "      <td>2.94</td>\n",
       "      <td>2.17</td>\n",
       "      <td>3.15</td>\n",
       "      <td>1.46</td>\n",
       "      <td>2.25</td>\n",
       "      <td>13:15</td>\n",
       "    </tr>\n",
       "    <tr>\n",
       "      <th>1</th>\n",
       "      <td>Ναντ</td>\n",
       "      <td>Χόφενχαϊμ</td>\n",
       "      <td>2-1</td>\n",
       "      <td>2.76</td>\n",
       "      <td>2.33</td>\n",
       "      <td>3.05</td>\n",
       "      <td>1.40</td>\n",
       "      <td>2.41</td>\n",
       "      <td>12:42</td>\n",
       "    </tr>\n",
       "    <tr>\n",
       "      <th>2</th>\n",
       "      <td>TorinoJuve</td>\n",
       "      <td>Μιλάνο</td>\n",
       "      <td>2-1</td>\n",
       "      <td>2.12</td>\n",
       "      <td>2.99</td>\n",
       "      <td>3.2</td>\n",
       "      <td>1.51</td>\n",
       "      <td>2.15</td>\n",
       "      <td>12:39</td>\n",
       "    </tr>\n",
       "    <tr>\n",
       "      <th>3</th>\n",
       "      <td>Περιστέρι</td>\n",
       "      <td>BetisGreens</td>\n",
       "      <td>0-1</td>\n",
       "      <td>2.44</td>\n",
       "      <td>2.54</td>\n",
       "      <td>3.15</td>\n",
       "      <td>1.49</td>\n",
       "      <td>2.18</td>\n",
       "      <td>12:36</td>\n",
       "    </tr>\n",
       "    <tr>\n",
       "      <th>4</th>\n",
       "      <td>FCBergamo</td>\n",
       "      <td>Νάπολι</td>\n",
       "      <td>1-3</td>\n",
       "      <td>2.66</td>\n",
       "      <td>2.39</td>\n",
       "      <td>3.05</td>\n",
       "      <td>1.43</td>\n",
       "      <td>2.33</td>\n",
       "      <td>12:27</td>\n",
       "    </tr>\n",
       "  </tbody>\n",
       "</table>\n",
       "</div>"
      ],
      "text/plain": [
       "           Berlin    Frankfurt  2-1   2.21    3.05    2.92   1.31  2.72  13:18\n",
       "0  ΔικέφαλοςΒορρά  Μπαρτσελόνα  0-2   2.94    2.17    3.15   1.46  2.25  13:15\n",
       "1            Ναντ    Χόφενχαϊμ  2-1   2.76    2.33    3.05   1.40  2.41  12:42\n",
       "2      TorinoJuve       Μιλάνο  2-1   2.12    2.99     3.2   1.51  2.15  12:39\n",
       "3       Περιστέρι  BetisGreens  0-1   2.44    2.54    3.15   1.49  2.18  12:36\n",
       "4       FCBergamo       Νάπολι  1-3   2.66    2.39    3.05   1.43  2.33  12:27"
      ]
     },
     "execution_count": 6,
     "metadata": {},
     "output_type": "execute_result"
    }
   ],
   "source": [
    "train.head(5)"
   ]
  },
  {
   "cell_type": "code",
   "execution_count": 7,
   "id": "864cce6c",
   "metadata": {},
   "outputs": [
    {
     "data": {
      "text/html": [
       "<div>\n",
       "<style scoped>\n",
       "    .dataframe tbody tr th:only-of-type {\n",
       "        vertical-align: middle;\n",
       "    }\n",
       "\n",
       "    .dataframe tbody tr th {\n",
       "        vertical-align: top;\n",
       "    }\n",
       "\n",
       "    .dataframe thead th {\n",
       "        text-align: right;\n",
       "    }\n",
       "</style>\n",
       "<table border=\"1\" class=\"dataframe\">\n",
       "  <thead>\n",
       "    <tr style=\"text-align: right;\">\n",
       "      <th></th>\n",
       "      <th>MadridAthletes</th>\n",
       "      <th>BetisGreens</th>\n",
       "      <th>2-1</th>\n",
       "      <th>2.06</th>\n",
       "      <th>3.3</th>\n",
       "      <th>3.05</th>\n",
       "      <th>1.37</th>\n",
       "      <th>2.52</th>\n",
       "      <th>13:21</th>\n",
       "    </tr>\n",
       "  </thead>\n",
       "  <tbody>\n",
       "    <tr>\n",
       "      <th>0</th>\n",
       "      <td>Berlin</td>\n",
       "      <td>Φράιμπουργκ</td>\n",
       "      <td>3-2</td>\n",
       "      <td>2.26</td>\n",
       "      <td>2.88</td>\n",
       "      <td>3.05</td>\n",
       "      <td>1.39</td>\n",
       "      <td>2.43</td>\n",
       "      <td>13:18</td>\n",
       "    </tr>\n",
       "    <tr>\n",
       "      <th>1</th>\n",
       "      <td>KievWhites</td>\n",
       "      <td>Μπεσίκτας</td>\n",
       "      <td>4-0</td>\n",
       "      <td>2.22</td>\n",
       "      <td>2.85</td>\n",
       "      <td>3.1</td>\n",
       "      <td>1.46</td>\n",
       "      <td>2.25</td>\n",
       "      <td>13:15</td>\n",
       "    </tr>\n",
       "    <tr>\n",
       "      <th>2</th>\n",
       "      <td>ΓουέστΧαμ</td>\n",
       "      <td>Έβερτον</td>\n",
       "      <td>0-2</td>\n",
       "      <td>2.62</td>\n",
       "      <td>2.37</td>\n",
       "      <td>3.15</td>\n",
       "      <td>1.49</td>\n",
       "      <td>2.18</td>\n",
       "      <td>13:12</td>\n",
       "    </tr>\n",
       "    <tr>\n",
       "      <th>3</th>\n",
       "      <td>Rennais</td>\n",
       "      <td>Αντβέρπ</td>\n",
       "      <td>3-0</td>\n",
       "      <td>2.27</td>\n",
       "      <td>2.7</td>\n",
       "      <td>3.25</td>\n",
       "      <td>1.56</td>\n",
       "      <td>2.05</td>\n",
       "      <td>13:06</td>\n",
       "    </tr>\n",
       "    <tr>\n",
       "      <th>4</th>\n",
       "      <td>YoungBoysFC</td>\n",
       "      <td>BelgradeReds</td>\n",
       "      <td>1-3</td>\n",
       "      <td>2.39</td>\n",
       "      <td>2.68</td>\n",
       "      <td>3.05</td>\n",
       "      <td>1.40</td>\n",
       "      <td>2.41</td>\n",
       "      <td>13:03</td>\n",
       "    </tr>\n",
       "  </tbody>\n",
       "</table>\n",
       "</div>"
      ],
      "text/plain": [
       "  MadridAthletes   BetisGreens  2-1   2.06     3.3    3.05   1.37  2.52  13:21\n",
       "0         Berlin   Φράιμπουργκ  3-2   2.26    2.88    3.05   1.39  2.43  13:18\n",
       "1     KievWhites     Μπεσίκτας  4-0   2.22    2.85     3.1   1.46  2.25  13:15\n",
       "2      ΓουέστΧαμ       Έβερτον  0-2   2.62    2.37    3.15   1.49  2.18  13:12\n",
       "3        Rennais       Αντβέρπ  3-0   2.27     2.7    3.25   1.56  2.05  13:06\n",
       "4    YoungBoysFC  BelgradeReds  1-3   2.39    2.68    3.05   1.40  2.41  13:03"
      ]
     },
     "execution_count": 7,
     "metadata": {},
     "output_type": "execute_result"
    }
   ],
   "source": [
    "test.head(5)"
   ]
  },
  {
   "cell_type": "code",
   "execution_count": 8,
   "id": "5ef9aee4",
   "metadata": {},
   "outputs": [],
   "source": [
    "replacers = ['team1','team2','score','team1_odds','x_odds','team2_odds','under','over','time']\n",
    "\n",
    "\n",
    "cols_t = train.columns\n",
    "\n",
    "for i in range(len(cols_t)):\n",
    "    train.rename(columns = {cols_t[i] : replacers[i]},inplace=True)\n",
    "    \n",
    "    \n",
    "cols_test = test.columns\n",
    "for i in range(len(cols_test)):\n",
    "    test.rename(columns = {cols_test[i] : replacers[i]},inplace=True)"
   ]
  },
  {
   "cell_type": "code",
   "execution_count": 9,
   "id": "0e299099",
   "metadata": {},
   "outputs": [
    {
     "data": {
      "text/html": [
       "<div>\n",
       "<style scoped>\n",
       "    .dataframe tbody tr th:only-of-type {\n",
       "        vertical-align: middle;\n",
       "    }\n",
       "\n",
       "    .dataframe tbody tr th {\n",
       "        vertical-align: top;\n",
       "    }\n",
       "\n",
       "    .dataframe thead th {\n",
       "        text-align: right;\n",
       "    }\n",
       "</style>\n",
       "<table border=\"1\" class=\"dataframe\">\n",
       "  <thead>\n",
       "    <tr style=\"text-align: right;\">\n",
       "      <th></th>\n",
       "      <th>team1</th>\n",
       "      <th>team2</th>\n",
       "      <th>score</th>\n",
       "      <th>team1_odds</th>\n",
       "      <th>x_odds</th>\n",
       "      <th>team2_odds</th>\n",
       "      <th>under</th>\n",
       "      <th>over</th>\n",
       "      <th>time</th>\n",
       "    </tr>\n",
       "  </thead>\n",
       "  <tbody>\n",
       "    <tr>\n",
       "      <th>0</th>\n",
       "      <td>ΔικέφαλοςΒορρά</td>\n",
       "      <td>Μπαρτσελόνα</td>\n",
       "      <td>0-2</td>\n",
       "      <td>2.94</td>\n",
       "      <td>2.17</td>\n",
       "      <td>3.15</td>\n",
       "      <td>1.46</td>\n",
       "      <td>2.25</td>\n",
       "      <td>13:15</td>\n",
       "    </tr>\n",
       "    <tr>\n",
       "      <th>1</th>\n",
       "      <td>Ναντ</td>\n",
       "      <td>Χόφενχαϊμ</td>\n",
       "      <td>2-1</td>\n",
       "      <td>2.76</td>\n",
       "      <td>2.33</td>\n",
       "      <td>3.05</td>\n",
       "      <td>1.40</td>\n",
       "      <td>2.41</td>\n",
       "      <td>12:42</td>\n",
       "    </tr>\n",
       "  </tbody>\n",
       "</table>\n",
       "</div>"
      ],
      "text/plain": [
       "            team1        team2 score team1_odds  x_odds team2_odds  under  \\\n",
       "0  ΔικέφαλοςΒορρά  Μπαρτσελόνα   0-2      2.94    2.17       3.15    1.46   \n",
       "1            Ναντ    Χόφενχαϊμ   2-1      2.76    2.33       3.05    1.40   \n",
       "\n",
       "   over   time  \n",
       "0  2.25  13:15  \n",
       "1  2.41  12:42  "
      ]
     },
     "execution_count": 9,
     "metadata": {},
     "output_type": "execute_result"
    }
   ],
   "source": [
    "train.head(2)"
   ]
  },
  {
   "cell_type": "code",
   "execution_count": 10,
   "id": "4874f6f8",
   "metadata": {},
   "outputs": [
    {
     "data": {
      "text/html": [
       "<div>\n",
       "<style scoped>\n",
       "    .dataframe tbody tr th:only-of-type {\n",
       "        vertical-align: middle;\n",
       "    }\n",
       "\n",
       "    .dataframe tbody tr th {\n",
       "        vertical-align: top;\n",
       "    }\n",
       "\n",
       "    .dataframe thead th {\n",
       "        text-align: right;\n",
       "    }\n",
       "</style>\n",
       "<table border=\"1\" class=\"dataframe\">\n",
       "  <thead>\n",
       "    <tr style=\"text-align: right;\">\n",
       "      <th></th>\n",
       "      <th>team1</th>\n",
       "      <th>team2</th>\n",
       "      <th>score</th>\n",
       "      <th>team1_odds</th>\n",
       "      <th>x_odds</th>\n",
       "      <th>team2_odds</th>\n",
       "      <th>under</th>\n",
       "      <th>over</th>\n",
       "      <th>time</th>\n",
       "    </tr>\n",
       "  </thead>\n",
       "  <tbody>\n",
       "    <tr>\n",
       "      <th>0</th>\n",
       "      <td>Berlin</td>\n",
       "      <td>Φράιμπουργκ</td>\n",
       "      <td>3-2</td>\n",
       "      <td>2.26</td>\n",
       "      <td>2.88</td>\n",
       "      <td>3.05</td>\n",
       "      <td>1.39</td>\n",
       "      <td>2.43</td>\n",
       "      <td>13:18</td>\n",
       "    </tr>\n",
       "    <tr>\n",
       "      <th>1</th>\n",
       "      <td>KievWhites</td>\n",
       "      <td>Μπεσίκτας</td>\n",
       "      <td>4-0</td>\n",
       "      <td>2.22</td>\n",
       "      <td>2.85</td>\n",
       "      <td>3.1</td>\n",
       "      <td>1.46</td>\n",
       "      <td>2.25</td>\n",
       "      <td>13:15</td>\n",
       "    </tr>\n",
       "  </tbody>\n",
       "</table>\n",
       "</div>"
      ],
      "text/plain": [
       "        team1        team2 score team1_odds  x_odds team2_odds  under  over  \\\n",
       "0      Berlin  Φράιμπουργκ   3-2      2.26    2.88       3.05    1.39  2.43   \n",
       "1  KievWhites    Μπεσίκτας   4-0      2.22    2.85        3.1    1.46  2.25   \n",
       "\n",
       "    time  \n",
       "0  13:18  \n",
       "1  13:15  "
      ]
     },
     "execution_count": 10,
     "metadata": {},
     "output_type": "execute_result"
    }
   ],
   "source": [
    "test.head(2)"
   ]
  },
  {
   "cell_type": "code",
   "execution_count": null,
   "id": "cc6fbfa1",
   "metadata": {},
   "outputs": [],
   "source": []
  },
  {
   "cell_type": "code",
   "execution_count": null,
   "id": "f5293074",
   "metadata": {},
   "outputs": [],
   "source": []
  },
  {
   "cell_type": "code",
   "execution_count": 11,
   "id": "2caf8c95",
   "metadata": {},
   "outputs": [
    {
     "name": "stdout",
     "output_type": "stream",
     "text": [
      "<class 'pandas.core.frame.DataFrame'>\n",
      "RangeIndex: 1878 entries, 0 to 1877\n",
      "Data columns (total 9 columns):\n",
      " #   Column      Non-Null Count  Dtype  \n",
      "---  ------      --------------  -----  \n",
      " 0   team1       1878 non-null   object \n",
      " 1   team2       1878 non-null   object \n",
      " 2   score       1878 non-null   object \n",
      " 3   team1_odds  1878 non-null   object \n",
      " 4   x_odds      1878 non-null   object \n",
      " 5   team2_odds  1878 non-null   object \n",
      " 6   under       1878 non-null   float64\n",
      " 7   over        1878 non-null   float64\n",
      " 8   time        1878 non-null   object \n",
      "dtypes: float64(2), object(7)\n",
      "memory usage: 132.2+ KB\n"
     ]
    }
   ],
   "source": [
    "train.info()"
   ]
  },
  {
   "cell_type": "code",
   "execution_count": 12,
   "id": "00351291",
   "metadata": {},
   "outputs": [
    {
     "name": "stdout",
     "output_type": "stream",
     "text": [
      "<class 'pandas.core.frame.DataFrame'>\n",
      "RangeIndex: 89 entries, 0 to 88\n",
      "Data columns (total 9 columns):\n",
      " #   Column      Non-Null Count  Dtype  \n",
      "---  ------      --------------  -----  \n",
      " 0   team1       89 non-null     object \n",
      " 1   team2       89 non-null     object \n",
      " 2   score       89 non-null     object \n",
      " 3   team1_odds  89 non-null     object \n",
      " 4   x_odds      89 non-null     object \n",
      " 5   team2_odds  89 non-null     object \n",
      " 6   under       89 non-null     float64\n",
      " 7   over        89 non-null     float64\n",
      " 8   time        89 non-null     object \n",
      "dtypes: float64(2), object(7)\n",
      "memory usage: 6.4+ KB\n"
     ]
    }
   ],
   "source": [
    "test.info()"
   ]
  },
  {
   "cell_type": "code",
   "execution_count": null,
   "id": "19405a2f",
   "metadata": {},
   "outputs": [],
   "source": []
  },
  {
   "cell_type": "code",
   "execution_count": null,
   "id": "26715ea2",
   "metadata": {},
   "outputs": [],
   "source": []
  },
  {
   "cell_type": "code",
   "execution_count": 13,
   "id": "354c5e0e",
   "metadata": {},
   "outputs": [],
   "source": [
    "train.drop(index=36,inplace=True)"
   ]
  },
  {
   "cell_type": "code",
   "execution_count": 14,
   "id": "05d03b9d",
   "metadata": {},
   "outputs": [],
   "source": [
    "train['team1_odds'] = train['team1_odds'].astype(np.float64)\n",
    "train['team2_odds'] = train['team2_odds'].astype(np.float64)\n",
    "train['x_odds'] = train['x_odds'].astype(np.float64)\n",
    "\n",
    "\n",
    "\n",
    "test['team1_odds'] = test['team1_odds'].astype(np.float64)\n",
    "test['team2_odds'] = test['team2_odds'].astype(np.float64)\n",
    "test['x_odds'] = test['x_odds'].astype(np.float64)"
   ]
  },
  {
   "cell_type": "code",
   "execution_count": null,
   "id": "a7673ba9",
   "metadata": {},
   "outputs": [],
   "source": []
  },
  {
   "cell_type": "code",
   "execution_count": 15,
   "id": "d1a0f1fd",
   "metadata": {},
   "outputs": [
    {
     "data": {
      "text/plain": [
       "team1           Frankfurt\n",
       "team2         Φράιμπουργκ\n",
       "score                 2-1\n",
       "team1_odds           2.42\n",
       "x_odds               2.72\n",
       "team2_odds           2.95\n",
       "under                1.34\n",
       "over                 2.59\n",
       "time                08:24\n",
       "Name: 789, dtype: object"
      ]
     },
     "execution_count": 15,
     "metadata": {},
     "output_type": "execute_result"
    }
   ],
   "source": [
    "train.iloc[788,:]"
   ]
  },
  {
   "cell_type": "code",
   "execution_count": 16,
   "id": "11346e3c",
   "metadata": {},
   "outputs": [],
   "source": [
    "train.drop(index=788,inplace=True)\n",
    "\n",
    "train['time'] = pd.to_datetime(train['time'],format = '%H:%M')\n",
    "train['hour'] = train.time.dt.hour\n",
    "train['minute'] = train.time.dt.minute"
   ]
  },
  {
   "cell_type": "code",
   "execution_count": 17,
   "id": "646a8fb3",
   "metadata": {},
   "outputs": [],
   "source": [
    "test['time'] = pd.to_datetime(test['time'],format = '%H:%M')\n",
    "test['hour'] = test.time.dt.hour\n",
    "test['minute'] = test.time.dt.minute"
   ]
  },
  {
   "cell_type": "code",
   "execution_count": null,
   "id": "960f70d2",
   "metadata": {},
   "outputs": [],
   "source": []
  },
  {
   "cell_type": "code",
   "execution_count": 18,
   "id": "9f27ed74",
   "metadata": {},
   "outputs": [],
   "source": [
    "train.drop(columns=['time'],inplace=True)\n",
    "test.drop(columns=['time'],inplace=True)"
   ]
  },
  {
   "cell_type": "code",
   "execution_count": null,
   "id": "04108753",
   "metadata": {},
   "outputs": [],
   "source": []
  },
  {
   "cell_type": "code",
   "execution_count": null,
   "id": "362e1a9d",
   "metadata": {},
   "outputs": [],
   "source": []
  },
  {
   "cell_type": "code",
   "execution_count": null,
   "id": "af10965d",
   "metadata": {},
   "outputs": [],
   "source": []
  },
  {
   "cell_type": "code",
   "execution_count": 19,
   "id": "c4c78dfb",
   "metadata": {},
   "outputs": [
    {
     "data": {
      "text/html": [
       "<div>\n",
       "<style scoped>\n",
       "    .dataframe tbody tr th:only-of-type {\n",
       "        vertical-align: middle;\n",
       "    }\n",
       "\n",
       "    .dataframe tbody tr th {\n",
       "        vertical-align: top;\n",
       "    }\n",
       "\n",
       "    .dataframe thead th {\n",
       "        text-align: right;\n",
       "    }\n",
       "</style>\n",
       "<table border=\"1\" class=\"dataframe\">\n",
       "  <thead>\n",
       "    <tr style=\"text-align: right;\">\n",
       "      <th></th>\n",
       "      <th>team1</th>\n",
       "      <th>team2</th>\n",
       "      <th>score</th>\n",
       "      <th>team1_odds</th>\n",
       "      <th>x_odds</th>\n",
       "      <th>team2_odds</th>\n",
       "      <th>under</th>\n",
       "      <th>over</th>\n",
       "      <th>hour</th>\n",
       "      <th>minute</th>\n",
       "    </tr>\n",
       "  </thead>\n",
       "  <tbody>\n",
       "    <tr>\n",
       "      <th>0</th>\n",
       "      <td>ΔικέφαλοςΒορρά</td>\n",
       "      <td>Μπαρτσελόνα</td>\n",
       "      <td>0-2</td>\n",
       "      <td>2.94</td>\n",
       "      <td>2.17</td>\n",
       "      <td>3.15</td>\n",
       "      <td>1.46</td>\n",
       "      <td>2.25</td>\n",
       "      <td>13</td>\n",
       "      <td>15</td>\n",
       "    </tr>\n",
       "    <tr>\n",
       "      <th>1</th>\n",
       "      <td>Ναντ</td>\n",
       "      <td>Χόφενχαϊμ</td>\n",
       "      <td>2-1</td>\n",
       "      <td>2.76</td>\n",
       "      <td>2.33</td>\n",
       "      <td>3.05</td>\n",
       "      <td>1.40</td>\n",
       "      <td>2.41</td>\n",
       "      <td>12</td>\n",
       "      <td>42</td>\n",
       "    </tr>\n",
       "  </tbody>\n",
       "</table>\n",
       "</div>"
      ],
      "text/plain": [
       "            team1        team2 score  team1_odds  x_odds  team2_odds  under  \\\n",
       "0  ΔικέφαλοςΒορρά  Μπαρτσελόνα   0-2        2.94    2.17        3.15   1.46   \n",
       "1            Ναντ    Χόφενχαϊμ   2-1        2.76    2.33        3.05   1.40   \n",
       "\n",
       "   over  hour  minute  \n",
       "0  2.25    13      15  \n",
       "1  2.41    12      42  "
      ]
     },
     "execution_count": 19,
     "metadata": {},
     "output_type": "execute_result"
    }
   ],
   "source": [
    "train.head(2)"
   ]
  },
  {
   "cell_type": "code",
   "execution_count": 20,
   "id": "8bab6dbb",
   "metadata": {},
   "outputs": [
    {
     "data": {
      "text/html": [
       "<div>\n",
       "<style scoped>\n",
       "    .dataframe tbody tr th:only-of-type {\n",
       "        vertical-align: middle;\n",
       "    }\n",
       "\n",
       "    .dataframe tbody tr th {\n",
       "        vertical-align: top;\n",
       "    }\n",
       "\n",
       "    .dataframe thead th {\n",
       "        text-align: right;\n",
       "    }\n",
       "</style>\n",
       "<table border=\"1\" class=\"dataframe\">\n",
       "  <thead>\n",
       "    <tr style=\"text-align: right;\">\n",
       "      <th></th>\n",
       "      <th>team1</th>\n",
       "      <th>team2</th>\n",
       "      <th>score</th>\n",
       "      <th>team1_odds</th>\n",
       "      <th>x_odds</th>\n",
       "      <th>team2_odds</th>\n",
       "      <th>under</th>\n",
       "      <th>over</th>\n",
       "      <th>hour</th>\n",
       "      <th>minute</th>\n",
       "    </tr>\n",
       "  </thead>\n",
       "  <tbody>\n",
       "    <tr>\n",
       "      <th>0</th>\n",
       "      <td>Berlin</td>\n",
       "      <td>Φράιμπουργκ</td>\n",
       "      <td>3-2</td>\n",
       "      <td>2.26</td>\n",
       "      <td>2.88</td>\n",
       "      <td>3.05</td>\n",
       "      <td>1.39</td>\n",
       "      <td>2.43</td>\n",
       "      <td>13</td>\n",
       "      <td>18</td>\n",
       "    </tr>\n",
       "    <tr>\n",
       "      <th>1</th>\n",
       "      <td>KievWhites</td>\n",
       "      <td>Μπεσίκτας</td>\n",
       "      <td>4-0</td>\n",
       "      <td>2.22</td>\n",
       "      <td>2.85</td>\n",
       "      <td>3.10</td>\n",
       "      <td>1.46</td>\n",
       "      <td>2.25</td>\n",
       "      <td>13</td>\n",
       "      <td>15</td>\n",
       "    </tr>\n",
       "    <tr>\n",
       "      <th>2</th>\n",
       "      <td>ΓουέστΧαμ</td>\n",
       "      <td>Έβερτον</td>\n",
       "      <td>0-2</td>\n",
       "      <td>2.62</td>\n",
       "      <td>2.37</td>\n",
       "      <td>3.15</td>\n",
       "      <td>1.49</td>\n",
       "      <td>2.18</td>\n",
       "      <td>13</td>\n",
       "      <td>12</td>\n",
       "    </tr>\n",
       "  </tbody>\n",
       "</table>\n",
       "</div>"
      ],
      "text/plain": [
       "        team1        team2 score  team1_odds  x_odds  team2_odds  under  over  \\\n",
       "0      Berlin  Φράιμπουργκ   3-2        2.26    2.88        3.05   1.39  2.43   \n",
       "1  KievWhites    Μπεσίκτας   4-0        2.22    2.85        3.10   1.46  2.25   \n",
       "2   ΓουέστΧαμ      Έβερτον   0-2        2.62    2.37        3.15   1.49  2.18   \n",
       "\n",
       "   hour  minute  \n",
       "0    13      18  \n",
       "1    13      15  \n",
       "2    13      12  "
      ]
     },
     "execution_count": 20,
     "metadata": {},
     "output_type": "execute_result"
    }
   ],
   "source": [
    "test.head(3)"
   ]
  },
  {
   "cell_type": "code",
   "execution_count": null,
   "id": "8123fdc5",
   "metadata": {},
   "outputs": [],
   "source": []
  },
  {
   "cell_type": "code",
   "execution_count": null,
   "id": "ec52351e",
   "metadata": {},
   "outputs": [],
   "source": []
  },
  {
   "cell_type": "code",
   "execution_count": 21,
   "id": "96856710",
   "metadata": {},
   "outputs": [],
   "source": [
    "train_scores = []\n",
    "\n",
    "\n",
    "train_scores_1 = train['score'].str[0].values.astype(np.int64)\n",
    "train_scores_2 = train['score'].str[2].values.astype(np.int64)\n",
    "\n",
    "total_scores_train = []\n",
    "\n",
    "for i in range(len(train_scores_1)):\n",
    "    total_scores_train.append(train_scores_1[i] + train_scores_2[i])\n",
    "    \n",
    "    \n",
    "result_train = []\n",
    "\n",
    "for i in range(len(total_scores_train)):\n",
    "    if total_scores_train[i]  > 2.5:\n",
    "        result_train.append(1)\n",
    "    else:\n",
    "        result_train.append(0)\n",
    "        \n",
    "        \n",
    "train['result'] = result_train"
   ]
  },
  {
   "cell_type": "code",
   "execution_count": 22,
   "id": "5b4567ae",
   "metadata": {},
   "outputs": [],
   "source": [
    "test_scores = []\n",
    "\n",
    "\n",
    "test_scores_1 = test['score'].str[0].values.astype(np.int64)\n",
    "test_scores_2 = test['score'].str[2].values.astype(np.int64)\n",
    "\n",
    "total_scores_test = []\n",
    "\n",
    "for i in range(len(test_scores_1)):\n",
    "    total_scores_test.append(test_scores_1[i] + test_scores_2[i])\n",
    "    \n",
    "    \n",
    "result_test = []\n",
    "\n",
    "for i in range(len(total_scores_test)):\n",
    "    if total_scores_test[i]  > 2.5:\n",
    "        result_test.append(1)\n",
    "    else:\n",
    "        result_test.append(0)\n",
    "        \n",
    "        \n",
    "test['result'] = result_test"
   ]
  },
  {
   "cell_type": "code",
   "execution_count": null,
   "id": "d7a91069",
   "metadata": {},
   "outputs": [],
   "source": []
  },
  {
   "cell_type": "code",
   "execution_count": 23,
   "id": "568d9536",
   "metadata": {},
   "outputs": [
    {
     "data": {
      "text/html": [
       "<div>\n",
       "<style scoped>\n",
       "    .dataframe tbody tr th:only-of-type {\n",
       "        vertical-align: middle;\n",
       "    }\n",
       "\n",
       "    .dataframe tbody tr th {\n",
       "        vertical-align: top;\n",
       "    }\n",
       "\n",
       "    .dataframe thead th {\n",
       "        text-align: right;\n",
       "    }\n",
       "</style>\n",
       "<table border=\"1\" class=\"dataframe\">\n",
       "  <thead>\n",
       "    <tr style=\"text-align: right;\">\n",
       "      <th></th>\n",
       "      <th>team1</th>\n",
       "      <th>team2</th>\n",
       "      <th>score</th>\n",
       "      <th>team1_odds</th>\n",
       "      <th>x_odds</th>\n",
       "      <th>team2_odds</th>\n",
       "      <th>under</th>\n",
       "      <th>over</th>\n",
       "      <th>hour</th>\n",
       "      <th>minute</th>\n",
       "      <th>result</th>\n",
       "    </tr>\n",
       "  </thead>\n",
       "  <tbody>\n",
       "    <tr>\n",
       "      <th>0</th>\n",
       "      <td>ΔικέφαλοςΒορρά</td>\n",
       "      <td>Μπαρτσελόνα</td>\n",
       "      <td>0-2</td>\n",
       "      <td>2.94</td>\n",
       "      <td>2.17</td>\n",
       "      <td>3.15</td>\n",
       "      <td>1.46</td>\n",
       "      <td>2.25</td>\n",
       "      <td>13</td>\n",
       "      <td>15</td>\n",
       "      <td>0</td>\n",
       "    </tr>\n",
       "    <tr>\n",
       "      <th>1</th>\n",
       "      <td>Ναντ</td>\n",
       "      <td>Χόφενχαϊμ</td>\n",
       "      <td>2-1</td>\n",
       "      <td>2.76</td>\n",
       "      <td>2.33</td>\n",
       "      <td>3.05</td>\n",
       "      <td>1.40</td>\n",
       "      <td>2.41</td>\n",
       "      <td>12</td>\n",
       "      <td>42</td>\n",
       "      <td>1</td>\n",
       "    </tr>\n",
       "    <tr>\n",
       "      <th>2</th>\n",
       "      <td>TorinoJuve</td>\n",
       "      <td>Μιλάνο</td>\n",
       "      <td>2-1</td>\n",
       "      <td>2.12</td>\n",
       "      <td>2.99</td>\n",
       "      <td>3.20</td>\n",
       "      <td>1.51</td>\n",
       "      <td>2.15</td>\n",
       "      <td>12</td>\n",
       "      <td>39</td>\n",
       "      <td>1</td>\n",
       "    </tr>\n",
       "    <tr>\n",
       "      <th>3</th>\n",
       "      <td>Περιστέρι</td>\n",
       "      <td>BetisGreens</td>\n",
       "      <td>0-1</td>\n",
       "      <td>2.44</td>\n",
       "      <td>2.54</td>\n",
       "      <td>3.15</td>\n",
       "      <td>1.49</td>\n",
       "      <td>2.18</td>\n",
       "      <td>12</td>\n",
       "      <td>36</td>\n",
       "      <td>0</td>\n",
       "    </tr>\n",
       "    <tr>\n",
       "      <th>4</th>\n",
       "      <td>FCBergamo</td>\n",
       "      <td>Νάπολι</td>\n",
       "      <td>1-3</td>\n",
       "      <td>2.66</td>\n",
       "      <td>2.39</td>\n",
       "      <td>3.05</td>\n",
       "      <td>1.43</td>\n",
       "      <td>2.33</td>\n",
       "      <td>12</td>\n",
       "      <td>27</td>\n",
       "      <td>1</td>\n",
       "    </tr>\n",
       "  </tbody>\n",
       "</table>\n",
       "</div>"
      ],
      "text/plain": [
       "            team1        team2 score  team1_odds  x_odds  team2_odds  under  \\\n",
       "0  ΔικέφαλοςΒορρά  Μπαρτσελόνα   0-2        2.94    2.17        3.15   1.46   \n",
       "1            Ναντ    Χόφενχαϊμ   2-1        2.76    2.33        3.05   1.40   \n",
       "2      TorinoJuve       Μιλάνο   2-1        2.12    2.99        3.20   1.51   \n",
       "3       Περιστέρι  BetisGreens   0-1        2.44    2.54        3.15   1.49   \n",
       "4       FCBergamo       Νάπολι   1-3        2.66    2.39        3.05   1.43   \n",
       "\n",
       "   over  hour  minute  result  \n",
       "0  2.25    13      15       0  \n",
       "1  2.41    12      42       1  \n",
       "2  2.15    12      39       1  \n",
       "3  2.18    12      36       0  \n",
       "4  2.33    12      27       1  "
      ]
     },
     "execution_count": 23,
     "metadata": {},
     "output_type": "execute_result"
    }
   ],
   "source": [
    "train.head(5)"
   ]
  },
  {
   "cell_type": "code",
   "execution_count": 24,
   "id": "d6936a28",
   "metadata": {},
   "outputs": [
    {
     "data": {
      "text/html": [
       "<div>\n",
       "<style scoped>\n",
       "    .dataframe tbody tr th:only-of-type {\n",
       "        vertical-align: middle;\n",
       "    }\n",
       "\n",
       "    .dataframe tbody tr th {\n",
       "        vertical-align: top;\n",
       "    }\n",
       "\n",
       "    .dataframe thead th {\n",
       "        text-align: right;\n",
       "    }\n",
       "</style>\n",
       "<table border=\"1\" class=\"dataframe\">\n",
       "  <thead>\n",
       "    <tr style=\"text-align: right;\">\n",
       "      <th></th>\n",
       "      <th>team1</th>\n",
       "      <th>team2</th>\n",
       "      <th>score</th>\n",
       "      <th>team1_odds</th>\n",
       "      <th>x_odds</th>\n",
       "      <th>team2_odds</th>\n",
       "      <th>under</th>\n",
       "      <th>over</th>\n",
       "      <th>hour</th>\n",
       "      <th>minute</th>\n",
       "      <th>result</th>\n",
       "    </tr>\n",
       "  </thead>\n",
       "  <tbody>\n",
       "    <tr>\n",
       "      <th>0</th>\n",
       "      <td>Berlin</td>\n",
       "      <td>Φράιμπουργκ</td>\n",
       "      <td>3-2</td>\n",
       "      <td>2.26</td>\n",
       "      <td>2.88</td>\n",
       "      <td>3.05</td>\n",
       "      <td>1.39</td>\n",
       "      <td>2.43</td>\n",
       "      <td>13</td>\n",
       "      <td>18</td>\n",
       "      <td>1</td>\n",
       "    </tr>\n",
       "    <tr>\n",
       "      <th>1</th>\n",
       "      <td>KievWhites</td>\n",
       "      <td>Μπεσίκτας</td>\n",
       "      <td>4-0</td>\n",
       "      <td>2.22</td>\n",
       "      <td>2.85</td>\n",
       "      <td>3.10</td>\n",
       "      <td>1.46</td>\n",
       "      <td>2.25</td>\n",
       "      <td>13</td>\n",
       "      <td>15</td>\n",
       "      <td>1</td>\n",
       "    </tr>\n",
       "    <tr>\n",
       "      <th>2</th>\n",
       "      <td>ΓουέστΧαμ</td>\n",
       "      <td>Έβερτον</td>\n",
       "      <td>0-2</td>\n",
       "      <td>2.62</td>\n",
       "      <td>2.37</td>\n",
       "      <td>3.15</td>\n",
       "      <td>1.49</td>\n",
       "      <td>2.18</td>\n",
       "      <td>13</td>\n",
       "      <td>12</td>\n",
       "      <td>0</td>\n",
       "    </tr>\n",
       "    <tr>\n",
       "      <th>3</th>\n",
       "      <td>Rennais</td>\n",
       "      <td>Αντβέρπ</td>\n",
       "      <td>3-0</td>\n",
       "      <td>2.27</td>\n",
       "      <td>2.70</td>\n",
       "      <td>3.25</td>\n",
       "      <td>1.56</td>\n",
       "      <td>2.05</td>\n",
       "      <td>13</td>\n",
       "      <td>6</td>\n",
       "      <td>1</td>\n",
       "    </tr>\n",
       "    <tr>\n",
       "      <th>4</th>\n",
       "      <td>YoungBoysFC</td>\n",
       "      <td>BelgradeReds</td>\n",
       "      <td>1-3</td>\n",
       "      <td>2.39</td>\n",
       "      <td>2.68</td>\n",
       "      <td>3.05</td>\n",
       "      <td>1.40</td>\n",
       "      <td>2.41</td>\n",
       "      <td>13</td>\n",
       "      <td>3</td>\n",
       "      <td>1</td>\n",
       "    </tr>\n",
       "  </tbody>\n",
       "</table>\n",
       "</div>"
      ],
      "text/plain": [
       "         team1         team2 score  team1_odds  x_odds  team2_odds  under  \\\n",
       "0       Berlin   Φράιμπουργκ   3-2        2.26    2.88        3.05   1.39   \n",
       "1   KievWhites     Μπεσίκτας   4-0        2.22    2.85        3.10   1.46   \n",
       "2    ΓουέστΧαμ       Έβερτον   0-2        2.62    2.37        3.15   1.49   \n",
       "3      Rennais       Αντβέρπ   3-0        2.27    2.70        3.25   1.56   \n",
       "4  YoungBoysFC  BelgradeReds   1-3        2.39    2.68        3.05   1.40   \n",
       "\n",
       "   over  hour  minute  result  \n",
       "0  2.43    13      18       1  \n",
       "1  2.25    13      15       1  \n",
       "2  2.18    13      12       0  \n",
       "3  2.05    13       6       1  \n",
       "4  2.41    13       3       1  "
      ]
     },
     "execution_count": 24,
     "metadata": {},
     "output_type": "execute_result"
    }
   ],
   "source": [
    "test.head(5)"
   ]
  },
  {
   "cell_type": "code",
   "execution_count": null,
   "id": "c213bb49",
   "metadata": {},
   "outputs": [],
   "source": []
  },
  {
   "cell_type": "code",
   "execution_count": null,
   "id": "749df32c",
   "metadata": {},
   "outputs": [],
   "source": []
  },
  {
   "cell_type": "code",
   "execution_count": null,
   "id": "08f30245",
   "metadata": {},
   "outputs": [],
   "source": []
  },
  {
   "cell_type": "code",
   "execution_count": 25,
   "id": "418f1e49",
   "metadata": {},
   "outputs": [
    {
     "name": "stdout",
     "output_type": "stream",
     "text": [
      "Μίλαν\n"
     ]
    }
   ],
   "source": [
    "t1 = train.team1.unique()\n",
    "t2 = test.team1.unique()\n",
    "\n",
    "for i in range(len(t2)):\n",
    "    if t2[i] not in t1:\n",
    "        print(t2[i])"
   ]
  },
  {
   "cell_type": "code",
   "execution_count": 26,
   "id": "7c4fef6d",
   "metadata": {},
   "outputs": [],
   "source": [
    "t1 = train.team2.unique()\n",
    "t2 = test.team2.unique()\n",
    "\n",
    "for i in range(len(t2)):\n",
    "    if t2[i] not in t1:\n",
    "        print(t2[i])"
   ]
  },
  {
   "cell_type": "code",
   "execution_count": 27,
   "id": "ec9ba0b7",
   "metadata": {},
   "outputs": [
    {
     "data": {
      "text/html": [
       "<div>\n",
       "<style scoped>\n",
       "    .dataframe tbody tr th:only-of-type {\n",
       "        vertical-align: middle;\n",
       "    }\n",
       "\n",
       "    .dataframe tbody tr th {\n",
       "        vertical-align: top;\n",
       "    }\n",
       "\n",
       "    .dataframe thead th {\n",
       "        text-align: right;\n",
       "    }\n",
       "</style>\n",
       "<table border=\"1\" class=\"dataframe\">\n",
       "  <thead>\n",
       "    <tr style=\"text-align: right;\">\n",
       "      <th></th>\n",
       "      <th>team1</th>\n",
       "      <th>team2</th>\n",
       "      <th>score</th>\n",
       "      <th>team1_odds</th>\n",
       "      <th>x_odds</th>\n",
       "      <th>team2_odds</th>\n",
       "      <th>under</th>\n",
       "      <th>over</th>\n",
       "      <th>hour</th>\n",
       "      <th>minute</th>\n",
       "      <th>result</th>\n",
       "    </tr>\n",
       "  </thead>\n",
       "  <tbody>\n",
       "    <tr>\n",
       "      <th>14</th>\n",
       "      <td>Μίλαν</td>\n",
       "      <td>Laziali</td>\n",
       "      <td>2-0</td>\n",
       "      <td>2.2</td>\n",
       "      <td>3.0</td>\n",
       "      <td>3.0</td>\n",
       "      <td>1.36</td>\n",
       "      <td>2.53</td>\n",
       "      <td>12</td>\n",
       "      <td>27</td>\n",
       "      <td>0</td>\n",
       "    </tr>\n",
       "  </tbody>\n",
       "</table>\n",
       "</div>"
      ],
      "text/plain": [
       "    team1    team2 score  team1_odds  x_odds  team2_odds  under  over  hour  \\\n",
       "14  Μίλαν  Laziali   2-0         2.2     3.0         3.0   1.36  2.53    12   \n",
       "\n",
       "    minute  result  \n",
       "14      27       0  "
      ]
     },
     "execution_count": 27,
     "metadata": {},
     "output_type": "execute_result"
    }
   ],
   "source": [
    "test.loc[test['team1'] == 'Μίλαν']"
   ]
  },
  {
   "cell_type": "code",
   "execution_count": 28,
   "id": "7434b061",
   "metadata": {},
   "outputs": [],
   "source": [
    "test.drop(index=14,inplace=True)"
   ]
  },
  {
   "cell_type": "code",
   "execution_count": null,
   "id": "99df7e6b",
   "metadata": {},
   "outputs": [],
   "source": []
  },
  {
   "cell_type": "code",
   "execution_count": 29,
   "id": "c2c45827",
   "metadata": {},
   "outputs": [],
   "source": [
    "teams = dict()\n",
    "\n",
    "\n",
    "for i , j in enumerate(train.team1.unique()):\n",
    "    if i not in teams.keys():\n",
    "        teams[j] = i"
   ]
  },
  {
   "cell_type": "code",
   "execution_count": 30,
   "id": "55b4bcb8",
   "metadata": {},
   "outputs": [
    {
     "data": {
      "text/plain": [
       "{'ΔικέφαλοςΒορρά': 0,\n",
       " 'Ναντ': 1,\n",
       " 'TorinoJuve': 2,\n",
       " 'Περιστέρι': 3,\n",
       " 'FCBergamo': 4,\n",
       " 'Fener': 5,\n",
       " 'Λέστερ': 6,\n",
       " 'Μπράγκα': 7,\n",
       " 'CelticGreens': 8,\n",
       " 'Ένωση': 9,\n",
       " 'Real': 10,\n",
       " 'Σεβίλλη': 11,\n",
       " 'Ντόρτμουντ': 12,\n",
       " 'Μονακό': 13,\n",
       " 'Lipsia': 14,\n",
       " 'Σάλτσμπουργκ': 15,\n",
       " 'Κοπεγχάγη': 16,\n",
       " 'Rennais': 17,\n",
       " 'Ρέιντζερς': 18,\n",
       " 'Λίβερπουλ': 19,\n",
       " 'ΚίτρινοιΒορρά': 20,\n",
       " 'Monchengladbach': 21,\n",
       " 'Eindhoven': 22,\n",
       " 'Αγρίνιο': 23,\n",
       " 'ΚρίσταλΠάλας': 24,\n",
       " 'ManchesterBlue': 25,\n",
       " 'Βόλος': 26,\n",
       " 'Ιωάννινα': 27,\n",
       " 'Μπρέντφορντ': 28,\n",
       " 'Χόφενχαϊμ': 29,\n",
       " 'Λεβερκούζεν': 30,\n",
       " 'Λυών': 31,\n",
       " 'Παρί': 32,\n",
       " 'Πράσινοι': 33,\n",
       " 'Τρίπολη': 34,\n",
       " 'BocaBoys': 35,\n",
       " 'LisbonEagles': 36,\n",
       " 'Partisans': 37,\n",
       " 'Νάπολι': 38,\n",
       " 'Basaksehir': 39,\n",
       " 'Udine': 40,\n",
       " 'Βερόνα': 41,\n",
       " 'Μπόρνμουθ': 42,\n",
       " 'ShakhtarUnited': 43,\n",
       " 'VillaLions': 44,\n",
       " 'FeyenordReds': 45,\n",
       " 'Ερυθρόλευκοι': 46,\n",
       " 'Anderlecht': 47,\n",
       " 'Φράιμπουργκ': 48,\n",
       " 'Laziali': 49,\n",
       " 'Λειβαδιά': 50,\n",
       " 'WolvesCity': 51,\n",
       " 'Ηράκλειο': 52,\n",
       " 'MunichReds': 53,\n",
       " 'Frankfurt': 54,\n",
       " 'Μάριμπορ': 55,\n",
       " 'Plzen': 56,\n",
       " 'Μαρσέιγ': 57,\n",
       " 'ΠράσινοιΛευκωσίας': 58,\n",
       " 'RedDevils': 59,\n",
       " 'Αντβέρπ': 60,\n",
       " 'SassuoloFC': 61,\n",
       " 'Berlin': 62,\n",
       " 'Μπράιτον&ΧoβΆλμπιον': 63,\n",
       " 'NisCity': 64,\n",
       " 'YoungBoysFC': 65,\n",
       " 'Rosenborg': 66,\n",
       " 'FiorentinaCity': 67,\n",
       " 'BelgradeReds': 68,\n",
       " 'AmsterdamReds': 69,\n",
       " 'LondonSpurs': 70,\n",
       " 'Βαλένθια': 71,\n",
       " 'GalataLions': 72,\n",
       " 'BetisGreens': 73,\n",
       " 'Πόρτο': 74,\n",
       " 'Τορίνο': 75,\n",
       " 'Τραμπζονσπόρ': 76,\n",
       " 'Σαουθάμπτον': 77,\n",
       " 'Ρόμα': 78,\n",
       " 'MadridAthletes': 79,\n",
       " 'Μπεσίκτας': 80,\n",
       " 'ΚίτρινοιΛευκωσίας': 81,\n",
       " 'Βιγιαρεάλ': 82,\n",
       " 'ΓουέστΧαμ': 83,\n",
       " 'InterBlues': 84,\n",
       " 'RiverAthletes': 85,\n",
       " 'Νίκαια': 86,\n",
       " 'Ghent': 87,\n",
       " 'Μιλάνο': 88,\n",
       " 'VascoBlues': 89,\n",
       " 'SportingLions': 90,\n",
       " 'FCBrugge': 91,\n",
       " 'Νότινγχαμ': 92,\n",
       " 'Τσέλσι': 93,\n",
       " 'Νιούκαστλ': 94,\n",
       " 'DoriaBlues': 95,\n",
       " 'LondonGunners': 96,\n",
       " 'Φούλαμ': 97,\n",
       " 'KievWhites': 98,\n",
       " 'Βασιλεία': 99,\n",
       " 'Μπαρτσελόνα': 100,\n",
       " 'Leeds': 101,\n",
       " 'Κάλιαρι': 102,\n",
       " 'Λαμία': 103,\n",
       " 'Έβερτον': 104}"
      ]
     },
     "execution_count": 30,
     "metadata": {},
     "output_type": "execute_result"
    }
   ],
   "source": [
    "teams"
   ]
  },
  {
   "cell_type": "code",
   "execution_count": 31,
   "id": "ca53990f",
   "metadata": {},
   "outputs": [],
   "source": [
    "teams1 = []\n",
    "\n",
    "t1 = train.team1.values\n",
    "\n",
    "for i in range(len(t1)):\n",
    "    for key,value in teams.items():\n",
    "        if t1[i] == key:\n",
    "            teams1.append(value)\n",
    "            \n",
    "            \n",
    "teams2 = []\n",
    "\n",
    "t2 = train.team2.values\n",
    "\n",
    "for i in range(len(t2)):\n",
    "    for key,value in teams.items():\n",
    "        if t2[i] == key:\n",
    "            teams2.append(value)\n",
    "            \n",
    "train['team1_'] = teams1\n",
    "train['team2_'] = teams2"
   ]
  },
  {
   "cell_type": "code",
   "execution_count": null,
   "id": "26fec92c",
   "metadata": {},
   "outputs": [],
   "source": []
  },
  {
   "cell_type": "code",
   "execution_count": 32,
   "id": "ed077564",
   "metadata": {},
   "outputs": [],
   "source": [
    "teams1 = []\n",
    "\n",
    "t1 = test.team1.values\n",
    "\n",
    "for i in range(len(t1)):\n",
    "    for key,value in teams.items():\n",
    "        if t1[i] == key:\n",
    "            teams1.append(value)\n",
    "            \n",
    "            \n",
    "teams2 = []\n",
    "\n",
    "t2 = test.team2.values\n",
    "\n",
    "for i in range(len(t2)):\n",
    "    for key,value in teams.items():\n",
    "        if t2[i] == key:\n",
    "            teams2.append(value)\n",
    "            \n",
    "test['team1_'] = teams1\n",
    "test['team2_'] = teams2"
   ]
  },
  {
   "cell_type": "code",
   "execution_count": null,
   "id": "768a1349",
   "metadata": {},
   "outputs": [],
   "source": []
  },
  {
   "cell_type": "code",
   "execution_count": null,
   "id": "6ea53913",
   "metadata": {},
   "outputs": [],
   "source": []
  },
  {
   "cell_type": "code",
   "execution_count": 33,
   "id": "454df7e3",
   "metadata": {},
   "outputs": [
    {
     "data": {
      "text/html": [
       "<div>\n",
       "<style scoped>\n",
       "    .dataframe tbody tr th:only-of-type {\n",
       "        vertical-align: middle;\n",
       "    }\n",
       "\n",
       "    .dataframe tbody tr th {\n",
       "        vertical-align: top;\n",
       "    }\n",
       "\n",
       "    .dataframe thead th {\n",
       "        text-align: right;\n",
       "    }\n",
       "</style>\n",
       "<table border=\"1\" class=\"dataframe\">\n",
       "  <thead>\n",
       "    <tr style=\"text-align: right;\">\n",
       "      <th></th>\n",
       "      <th>team1</th>\n",
       "      <th>team2</th>\n",
       "      <th>score</th>\n",
       "      <th>team1_odds</th>\n",
       "      <th>x_odds</th>\n",
       "      <th>team2_odds</th>\n",
       "      <th>under</th>\n",
       "      <th>over</th>\n",
       "      <th>hour</th>\n",
       "      <th>minute</th>\n",
       "      <th>result</th>\n",
       "      <th>team1_</th>\n",
       "      <th>team2_</th>\n",
       "    </tr>\n",
       "  </thead>\n",
       "  <tbody>\n",
       "    <tr>\n",
       "      <th>0</th>\n",
       "      <td>ΔικέφαλοςΒορρά</td>\n",
       "      <td>Μπαρτσελόνα</td>\n",
       "      <td>0-2</td>\n",
       "      <td>2.94</td>\n",
       "      <td>2.17</td>\n",
       "      <td>3.15</td>\n",
       "      <td>1.46</td>\n",
       "      <td>2.25</td>\n",
       "      <td>13</td>\n",
       "      <td>15</td>\n",
       "      <td>0</td>\n",
       "      <td>0</td>\n",
       "      <td>100</td>\n",
       "    </tr>\n",
       "    <tr>\n",
       "      <th>1</th>\n",
       "      <td>Ναντ</td>\n",
       "      <td>Χόφενχαϊμ</td>\n",
       "      <td>2-1</td>\n",
       "      <td>2.76</td>\n",
       "      <td>2.33</td>\n",
       "      <td>3.05</td>\n",
       "      <td>1.40</td>\n",
       "      <td>2.41</td>\n",
       "      <td>12</td>\n",
       "      <td>42</td>\n",
       "      <td>1</td>\n",
       "      <td>1</td>\n",
       "      <td>29</td>\n",
       "    </tr>\n",
       "  </tbody>\n",
       "</table>\n",
       "</div>"
      ],
      "text/plain": [
       "            team1        team2 score  team1_odds  x_odds  team2_odds  under  \\\n",
       "0  ΔικέφαλοςΒορρά  Μπαρτσελόνα   0-2        2.94    2.17        3.15   1.46   \n",
       "1            Ναντ    Χόφενχαϊμ   2-1        2.76    2.33        3.05   1.40   \n",
       "\n",
       "   over  hour  minute  result  team1_  team2_  \n",
       "0  2.25    13      15       0       0     100  \n",
       "1  2.41    12      42       1       1      29  "
      ]
     },
     "execution_count": 33,
     "metadata": {},
     "output_type": "execute_result"
    }
   ],
   "source": [
    "train.head(2)"
   ]
  },
  {
   "cell_type": "code",
   "execution_count": 34,
   "id": "2da64b66",
   "metadata": {},
   "outputs": [
    {
     "data": {
      "text/html": [
       "<div>\n",
       "<style scoped>\n",
       "    .dataframe tbody tr th:only-of-type {\n",
       "        vertical-align: middle;\n",
       "    }\n",
       "\n",
       "    .dataframe tbody tr th {\n",
       "        vertical-align: top;\n",
       "    }\n",
       "\n",
       "    .dataframe thead th {\n",
       "        text-align: right;\n",
       "    }\n",
       "</style>\n",
       "<table border=\"1\" class=\"dataframe\">\n",
       "  <thead>\n",
       "    <tr style=\"text-align: right;\">\n",
       "      <th></th>\n",
       "      <th>team1</th>\n",
       "      <th>team2</th>\n",
       "      <th>score</th>\n",
       "      <th>team1_odds</th>\n",
       "      <th>x_odds</th>\n",
       "      <th>team2_odds</th>\n",
       "      <th>under</th>\n",
       "      <th>over</th>\n",
       "      <th>hour</th>\n",
       "      <th>minute</th>\n",
       "      <th>result</th>\n",
       "      <th>team1_</th>\n",
       "      <th>team2_</th>\n",
       "    </tr>\n",
       "  </thead>\n",
       "  <tbody>\n",
       "    <tr>\n",
       "      <th>0</th>\n",
       "      <td>Berlin</td>\n",
       "      <td>Φράιμπουργκ</td>\n",
       "      <td>3-2</td>\n",
       "      <td>2.26</td>\n",
       "      <td>2.88</td>\n",
       "      <td>3.05</td>\n",
       "      <td>1.39</td>\n",
       "      <td>2.43</td>\n",
       "      <td>13</td>\n",
       "      <td>18</td>\n",
       "      <td>1</td>\n",
       "      <td>62</td>\n",
       "      <td>48</td>\n",
       "    </tr>\n",
       "    <tr>\n",
       "      <th>1</th>\n",
       "      <td>KievWhites</td>\n",
       "      <td>Μπεσίκτας</td>\n",
       "      <td>4-0</td>\n",
       "      <td>2.22</td>\n",
       "      <td>2.85</td>\n",
       "      <td>3.10</td>\n",
       "      <td>1.46</td>\n",
       "      <td>2.25</td>\n",
       "      <td>13</td>\n",
       "      <td>15</td>\n",
       "      <td>1</td>\n",
       "      <td>98</td>\n",
       "      <td>80</td>\n",
       "    </tr>\n",
       "    <tr>\n",
       "      <th>2</th>\n",
       "      <td>ΓουέστΧαμ</td>\n",
       "      <td>Έβερτον</td>\n",
       "      <td>0-2</td>\n",
       "      <td>2.62</td>\n",
       "      <td>2.37</td>\n",
       "      <td>3.15</td>\n",
       "      <td>1.49</td>\n",
       "      <td>2.18</td>\n",
       "      <td>13</td>\n",
       "      <td>12</td>\n",
       "      <td>0</td>\n",
       "      <td>83</td>\n",
       "      <td>104</td>\n",
       "    </tr>\n",
       "  </tbody>\n",
       "</table>\n",
       "</div>"
      ],
      "text/plain": [
       "        team1        team2 score  team1_odds  x_odds  team2_odds  under  over  \\\n",
       "0      Berlin  Φράιμπουργκ   3-2        2.26    2.88        3.05   1.39  2.43   \n",
       "1  KievWhites    Μπεσίκτας   4-0        2.22    2.85        3.10   1.46  2.25   \n",
       "2   ΓουέστΧαμ      Έβερτον   0-2        2.62    2.37        3.15   1.49  2.18   \n",
       "\n",
       "   hour  minute  result  team1_  team2_  \n",
       "0    13      18       1      62      48  \n",
       "1    13      15       1      98      80  \n",
       "2    13      12       0      83     104  "
      ]
     },
     "execution_count": 34,
     "metadata": {},
     "output_type": "execute_result"
    }
   ],
   "source": [
    "test.head(3)"
   ]
  },
  {
   "cell_type": "code",
   "execution_count": null,
   "id": "d0abb512",
   "metadata": {},
   "outputs": [],
   "source": []
  },
  {
   "cell_type": "code",
   "execution_count": null,
   "id": "db2c78a1",
   "metadata": {},
   "outputs": [],
   "source": []
  },
  {
   "cell_type": "code",
   "execution_count": 35,
   "id": "cc10c0dd",
   "metadata": {},
   "outputs": [],
   "source": [
    "train.drop(columns=['team1' , 'team2','score'],inplace=True)\n",
    "test.drop(columns=['team1' , 'team2','score'],inplace=True)"
   ]
  },
  {
   "cell_type": "code",
   "execution_count": 36,
   "id": "ae4f5ae8",
   "metadata": {},
   "outputs": [],
   "source": [
    "train = train[['team1_','team2_','team1_odds','team2_odds','x_odds','under','over','hour','minute','result']]\n",
    "test = test[['team1_','team2_','team1_odds','team2_odds','x_odds','under','over','hour','minute','result']]"
   ]
  },
  {
   "cell_type": "code",
   "execution_count": 37,
   "id": "4ab0fea6",
   "metadata": {},
   "outputs": [
    {
     "data": {
      "text/html": [
       "<div>\n",
       "<style scoped>\n",
       "    .dataframe tbody tr th:only-of-type {\n",
       "        vertical-align: middle;\n",
       "    }\n",
       "\n",
       "    .dataframe tbody tr th {\n",
       "        vertical-align: top;\n",
       "    }\n",
       "\n",
       "    .dataframe thead th {\n",
       "        text-align: right;\n",
       "    }\n",
       "</style>\n",
       "<table border=\"1\" class=\"dataframe\">\n",
       "  <thead>\n",
       "    <tr style=\"text-align: right;\">\n",
       "      <th></th>\n",
       "      <th>team1_</th>\n",
       "      <th>team2_</th>\n",
       "      <th>team1_odds</th>\n",
       "      <th>team2_odds</th>\n",
       "      <th>x_odds</th>\n",
       "      <th>under</th>\n",
       "      <th>over</th>\n",
       "      <th>hour</th>\n",
       "      <th>minute</th>\n",
       "      <th>result</th>\n",
       "    </tr>\n",
       "  </thead>\n",
       "  <tbody>\n",
       "    <tr>\n",
       "      <th>0</th>\n",
       "      <td>0</td>\n",
       "      <td>100</td>\n",
       "      <td>2.94</td>\n",
       "      <td>3.15</td>\n",
       "      <td>2.17</td>\n",
       "      <td>1.46</td>\n",
       "      <td>2.25</td>\n",
       "      <td>13</td>\n",
       "      <td>15</td>\n",
       "      <td>0</td>\n",
       "    </tr>\n",
       "    <tr>\n",
       "      <th>1</th>\n",
       "      <td>1</td>\n",
       "      <td>29</td>\n",
       "      <td>2.76</td>\n",
       "      <td>3.05</td>\n",
       "      <td>2.33</td>\n",
       "      <td>1.40</td>\n",
       "      <td>2.41</td>\n",
       "      <td>12</td>\n",
       "      <td>42</td>\n",
       "      <td>1</td>\n",
       "    </tr>\n",
       "  </tbody>\n",
       "</table>\n",
       "</div>"
      ],
      "text/plain": [
       "   team1_  team2_  team1_odds  team2_odds  x_odds  under  over  hour  minute  \\\n",
       "0       0     100        2.94        3.15    2.17   1.46  2.25    13      15   \n",
       "1       1      29        2.76        3.05    2.33   1.40  2.41    12      42   \n",
       "\n",
       "   result  \n",
       "0       0  \n",
       "1       1  "
      ]
     },
     "execution_count": 37,
     "metadata": {},
     "output_type": "execute_result"
    }
   ],
   "source": [
    "train.head(2)"
   ]
  },
  {
   "cell_type": "code",
   "execution_count": 38,
   "id": "b8a910c6",
   "metadata": {},
   "outputs": [
    {
     "data": {
      "text/html": [
       "<div>\n",
       "<style scoped>\n",
       "    .dataframe tbody tr th:only-of-type {\n",
       "        vertical-align: middle;\n",
       "    }\n",
       "\n",
       "    .dataframe tbody tr th {\n",
       "        vertical-align: top;\n",
       "    }\n",
       "\n",
       "    .dataframe thead th {\n",
       "        text-align: right;\n",
       "    }\n",
       "</style>\n",
       "<table border=\"1\" class=\"dataframe\">\n",
       "  <thead>\n",
       "    <tr style=\"text-align: right;\">\n",
       "      <th></th>\n",
       "      <th>team1_</th>\n",
       "      <th>team2_</th>\n",
       "      <th>team1_odds</th>\n",
       "      <th>team2_odds</th>\n",
       "      <th>x_odds</th>\n",
       "      <th>under</th>\n",
       "      <th>over</th>\n",
       "      <th>hour</th>\n",
       "      <th>minute</th>\n",
       "      <th>result</th>\n",
       "    </tr>\n",
       "  </thead>\n",
       "  <tbody>\n",
       "    <tr>\n",
       "      <th>0</th>\n",
       "      <td>62</td>\n",
       "      <td>48</td>\n",
       "      <td>2.26</td>\n",
       "      <td>3.05</td>\n",
       "      <td>2.88</td>\n",
       "      <td>1.39</td>\n",
       "      <td>2.43</td>\n",
       "      <td>13</td>\n",
       "      <td>18</td>\n",
       "      <td>1</td>\n",
       "    </tr>\n",
       "    <tr>\n",
       "      <th>1</th>\n",
       "      <td>98</td>\n",
       "      <td>80</td>\n",
       "      <td>2.22</td>\n",
       "      <td>3.10</td>\n",
       "      <td>2.85</td>\n",
       "      <td>1.46</td>\n",
       "      <td>2.25</td>\n",
       "      <td>13</td>\n",
       "      <td>15</td>\n",
       "      <td>1</td>\n",
       "    </tr>\n",
       "  </tbody>\n",
       "</table>\n",
       "</div>"
      ],
      "text/plain": [
       "   team1_  team2_  team1_odds  team2_odds  x_odds  under  over  hour  minute  \\\n",
       "0      62      48        2.26        3.05    2.88   1.39  2.43    13      18   \n",
       "1      98      80        2.22        3.10    2.85   1.46  2.25    13      15   \n",
       "\n",
       "   result  \n",
       "0       1  \n",
       "1       1  "
      ]
     },
     "execution_count": 38,
     "metadata": {},
     "output_type": "execute_result"
    }
   ],
   "source": [
    "test.head(2)"
   ]
  },
  {
   "cell_type": "code",
   "execution_count": null,
   "id": "ea51fa27",
   "metadata": {},
   "outputs": [],
   "source": []
  },
  {
   "cell_type": "code",
   "execution_count": 39,
   "id": "7b36588d",
   "metadata": {},
   "outputs": [],
   "source": [
    "x_train  = train.iloc[:,:-1].values\n",
    "y_train  = train.iloc[:,-1].values\n",
    "\n",
    "x_test  = test.iloc[:,:-1].values\n",
    "y_test  = test.iloc[:,-1].values"
   ]
  },
  {
   "cell_type": "code",
   "execution_count": null,
   "id": "afbc6865",
   "metadata": {},
   "outputs": [],
   "source": []
  },
  {
   "cell_type": "code",
   "execution_count": 40,
   "id": "116dc897",
   "metadata": {},
   "outputs": [],
   "source": [
    "from sklearn.preprocessing import StandardScaler\n",
    "\n",
    "\n",
    "scaler = StandardScaler()\n",
    "\n",
    "x_train = scaler.fit_transform(x_train)\n",
    "x_test = scaler.transform(x_test)"
   ]
  },
  {
   "cell_type": "code",
   "execution_count": null,
   "id": "730463c0",
   "metadata": {},
   "outputs": [],
   "source": []
  },
  {
   "cell_type": "code",
   "execution_count": null,
   "id": "7800761e",
   "metadata": {},
   "outputs": [],
   "source": []
  },
  {
   "cell_type": "code",
   "execution_count": 41,
   "id": "0ecf2c8e",
   "metadata": {},
   "outputs": [],
   "source": [
    "from sklearn.metrics import accuracy_score , f1_score,recall_score,precision_score,confusion_matrix\n",
    "import seaborn as sns\n",
    "\n",
    "history = []\n",
    "\n",
    "\n",
    "def metrics(estimator , pred , actual = y_test ,hist = history ):\n",
    "    new = []\n",
    "    accuracy = accuracy_score(pred,actual)\n",
    "    f1 = f1_score(pred,actual)\n",
    "    recall = recall_score(pred,actual)\n",
    "    precision = precision_score(pred,actual)\n",
    "    cm = confusion_matrix(pred,actual)\n",
    "    \n",
    "    new.append((estimator , accuracy, f1,recall,precision))\n",
    "    print(f'estimator {estimator} had accuracy score = {accuracy}')\n",
    "    sns.heatmap(cm,annot=True,  fmt='.0f')\n",
    "    hist.append(new)"
   ]
  },
  {
   "cell_type": "code",
   "execution_count": null,
   "id": "27c6f242",
   "metadata": {},
   "outputs": [],
   "source": []
  },
  {
   "cell_type": "code",
   "execution_count": 42,
   "id": "a05d60a8",
   "metadata": {},
   "outputs": [],
   "source": [
    "from sklearn.model_selection import GridSearchCV\n",
    "\n",
    "def grid(params , estimator , x = x_train , y = y_train):\n",
    "    grid_s = GridSearchCV(estimator = estimator , param_grid = params , scoring='accuracy',cv=8 , refit=False)\n",
    "    grid_s.fit(x,y)\n",
    "    best_acc = grid_s.best_score_\n",
    "    best_params = grid_s.best_params_\n",
    "    print(f'best score = {best_acc}')\n",
    "    print(f'best params = {best_params}')"
   ]
  },
  {
   "cell_type": "code",
   "execution_count": null,
   "id": "afd5cb76",
   "metadata": {},
   "outputs": [],
   "source": []
  },
  {
   "cell_type": "code",
   "execution_count": null,
   "id": "2c3bbf3c",
   "metadata": {},
   "outputs": [],
   "source": []
  },
  {
   "cell_type": "code",
   "execution_count": 43,
   "id": "f0a5898f",
   "metadata": {},
   "outputs": [],
   "source": [
    "import warnings\n",
    "\n",
    "warnings.filterwarnings('ignore')"
   ]
  },
  {
   "cell_type": "code",
   "execution_count": null,
   "id": "3a1c9845",
   "metadata": {},
   "outputs": [],
   "source": []
  },
  {
   "cell_type": "code",
   "execution_count": 44,
   "id": "d7197618",
   "metadata": {},
   "outputs": [
    {
     "name": "stdout",
     "output_type": "stream",
     "text": [
      "best score = 0.5132910529187125\n",
      "best params = {'criterion': 'log_loss', 'max_features': 'sqrt', 'min_samples_split': 3}\n"
     ]
    }
   ],
   "source": [
    "from sklearn.tree import DecisionTreeClassifier\n",
    "params = {'criterion':['gini','entropy','log_loss'] ,'max_features':['auto','sqrt',';log2'],'min_samples_split':[1,2,3]}\n",
    "\n",
    "tree = DecisionTreeClassifier()\n",
    "grid(params,tree)"
   ]
  },
  {
   "cell_type": "code",
   "execution_count": 63,
   "id": "9e864e7f",
   "metadata": {},
   "outputs": [
    {
     "name": "stdout",
     "output_type": "stream",
     "text": [
      "estimator DecisionTreeClassifier(criterion='log_loss', max_features='sqrt',\n",
      "                       min_samples_split=3) had accuracy score = 0.5340909090909091\n"
     ]
    },
    {
     "data": {
      "image/png": "[encoded data removed]",
      "text/plain": [
       "<Figure size 640x480 with 2 Axes>"
      ]
     },
     "metadata": {},
     "output_type": "display_data"
    }
   ],
   "source": [
    "tree = DecisionTreeClassifier(criterion = 'log_loss' , max_features = 'sqrt' , min_samples_split=3)\n",
    "\n",
    "tree.fit(x_train,y_train)\n",
    "\n",
    "tree_preds = tree.predict(x_test)\n",
    "\n",
    "metrics(tree,tree_preds)"
   ]
  },
  {
   "cell_type": "code",
   "execution_count": null,
   "id": "4c4f5e56",
   "metadata": {},
   "outputs": [],
   "source": []
  },
  {
   "cell_type": "code",
   "execution_count": null,
   "id": "cac7580d",
   "metadata": {},
   "outputs": [],
   "source": []
  },
  {
   "cell_type": "code",
   "execution_count": null,
   "id": "fc8462b5",
   "metadata": {},
   "outputs": [],
   "source": []
  },
  {
   "cell_type": "code",
   "execution_count": 46,
   "id": "c6b61d13",
   "metadata": {},
   "outputs": [
    {
     "name": "stdout",
     "output_type": "stream",
     "text": [
      "best score = 0.5207992362247682\n",
      "best params = {'algorithm': 'auto', 'n_neighbors': 4}\n"
     ]
    }
   ],
   "source": [
    "from sklearn.neighbors import KNeighborsClassifier\n",
    "\n",
    "params = {'n_neighbors':[3,4,5,6,7] , 'algorithm' : ['auto','ball_tree' ,'kd_tree', 'brute']}\n",
    "\n",
    "gitonas  = KNeighborsClassifier()\n",
    "\n",
    "grid(params,gitonas)"
   ]
  },
  {
   "cell_type": "code",
   "execution_count": 47,
   "id": "8bfde0bd",
   "metadata": {},
   "outputs": [
    {
     "name": "stdout",
     "output_type": "stream",
     "text": [
      "estimator KNeighborsClassifier(n_neighbors=4) had accuracy score = 0.6022727272727273\n"
     ]
    },
    {
     "data": {
      "image/png": "[encoded data removed]",
      "text/plain": [
       "<Figure size 640x480 with 2 Axes>"
      ]
     },
     "metadata": {},
     "output_type": "display_data"
    }
   ],
   "source": [
    "gitonas  = KNeighborsClassifier(algorithm='auto' ,n_neighbors=4 )\n",
    "gitonas.fit(x_train,y_train)\n",
    "gitonas_pred = gitonas.predict(x_test)\n",
    "metrics(gitonas , gitonas_pred)\n"
   ]
  },
  {
   "cell_type": "code",
   "execution_count": null,
   "id": "337d8229",
   "metadata": {},
   "outputs": [],
   "source": []
  },
  {
   "cell_type": "code",
   "execution_count": null,
   "id": "18d7c4aa",
   "metadata": {},
   "outputs": [],
   "source": []
  },
  {
   "cell_type": "code",
   "execution_count": 48,
   "id": "b4929e5b",
   "metadata": {},
   "outputs": [
    {
     "name": "stdout",
     "output_type": "stream",
     "text": [
      "best score = 0.5234724495362792\n",
      "best params = {'criterion': 'gini', 'min_samples_split': 3, 'n_estimators': 50}\n"
     ]
    }
   ],
   "source": [
    "from sklearn.ensemble import RandomForestClassifier \n",
    "params = {'n_estimators':[50,100,150] , 'criterion' : ['gini', 'entropy' , 'log_loss'] , 'min_samples_split':[1,2,3,4]}\n",
    "forest = RandomForestClassifier()\n",
    "grid(params,forest)\n",
    "\n",
    "    "
   ]
  },
  {
   "cell_type": "code",
   "execution_count": 49,
   "id": "b6264952",
   "metadata": {},
   "outputs": [
    {
     "name": "stdout",
     "output_type": "stream",
     "text": [
      "estimator RandomForestClassifier(min_samples_split=4) had accuracy score = 0.5568181818181818\n"
     ]
    },
    {
     "data": {
      "image/png": "[encoded data removed]",
      "text/plain": [
       "<Figure size 640x480 with 2 Axes>"
      ]
     },
     "metadata": {},
     "output_type": "display_data"
    }
   ],
   "source": [
    "forest = RandomForestClassifier(criterion = 'gini' , min_samples_split=4)\n",
    "forest.fit(x_train,y_train)\n",
    "forest_pred = forest.predict(x_test)\n",
    "metrics(forest,forest_pred)"
   ]
  },
  {
   "cell_type": "code",
   "execution_count": null,
   "id": "a8123b79",
   "metadata": {},
   "outputs": [],
   "source": []
  },
  {
   "cell_type": "code",
   "execution_count": null,
   "id": "cd1b69ac",
   "metadata": {},
   "outputs": [],
   "source": []
  },
  {
   "cell_type": "code",
   "execution_count": 50,
   "id": "eac10291",
   "metadata": {},
   "outputs": [
    {
     "name": "stdout",
     "output_type": "stream",
     "text": [
      "best score = 0.5458628841607565\n",
      "best params = {'penalty': 'l1', 'solver': 'liblinear'}\n"
     ]
    }
   ],
   "source": [
    "from sklearn.linear_model import LogisticRegression\n",
    "\n",
    "params = {'penalty':['l1','l2','elasticnet'], 'solver':['lbfgs','liblinear']}\n",
    "\n",
    "logistic = LogisticRegression()\n",
    "grid(params,logistic)"
   ]
  },
  {
   "cell_type": "code",
   "execution_count": 51,
   "id": "08317263",
   "metadata": {},
   "outputs": [
    {
     "name": "stdout",
     "output_type": "stream",
     "text": [
      "estimator LogisticRegression(penalty='l1', solver='liblinear') had accuracy score = 0.5454545454545454\n"
     ]
    },
    {
     "data": {
      "image/png": "[encoded data removed]",
      "text/plain": [
       "<Figure size 640x480 with 2 Axes>"
      ]
     },
     "metadata": {},
     "output_type": "display_data"
    }
   ],
   "source": [
    "logistic = LogisticRegression(penalty  = 'l1' , solver = 'liblinear')\n",
    "logistic.fit(x_train,y_train)\n",
    "log_preds = logistic.predict(x_test)\n",
    "metrics(logistic,log_preds)\n",
    "\n"
   ]
  },
  {
   "cell_type": "code",
   "execution_count": null,
   "id": "ffd21572",
   "metadata": {},
   "outputs": [],
   "source": []
  },
  {
   "cell_type": "code",
   "execution_count": null,
   "id": "37b7a54d",
   "metadata": {},
   "outputs": [],
   "source": []
  },
  {
   "cell_type": "code",
   "execution_count": 52,
   "id": "4599cf7c",
   "metadata": {},
   "outputs": [
    {
     "name": "stdout",
     "output_type": "stream",
     "text": [
      "estimator GaussianNB() had accuracy score = 0.5568181818181818\n"
     ]
    },
    {
     "data": {
      "image/png": "[encoded data removed]",
      "text/plain": [
       "<Figure size 640x480 with 2 Axes>"
      ]
     },
     "metadata": {},
     "output_type": "display_data"
    }
   ],
   "source": [
    "from sklearn.naive_bayes import GaussianNB\n",
    "\n",
    "bayes = GaussianNB()\n",
    "bayes.fit(x_train,y_train)\n",
    "bayes_pred = bayes.predict(x_test)\n",
    "metrics(bayes,bayes_pred)"
   ]
  },
  {
   "cell_type": "code",
   "execution_count": null,
   "id": "1cc8c1a5",
   "metadata": {},
   "outputs": [],
   "source": []
  },
  {
   "cell_type": "code",
   "execution_count": 53,
   "id": "d818b40c",
   "metadata": {},
   "outputs": [
    {
     "name": "stdout",
     "output_type": "stream",
     "text": [
      "estimator XGBClassifier(base_score=None, booster=None, callbacks=None,\n",
      "              colsample_bylevel=None, colsample_bynode=None,\n",
      "              colsample_bytree=None, device=None, early_stopping_rounds=None,\n",
      "              enable_categorical=False, eval_metric=None, feature_types=None,\n",
      "              gamma=None, grow_policy=None, importance_type=None,\n",
      "              interaction_constraints=None, learning_rate=0.01, max_bin=None,\n",
      "              max_cat_threshold=None, max_cat_to_onehot=None,\n",
      "              max_delta_step=None, max_depth=3, max_leaves=None,\n",
      "              min_child_weight=None, missing=nan, monotone_constraints=None,\n",
      "              multi_strategy=None, n_estimators=500, n_jobs=None,\n",
      "              num_parallel_tree=None, random_state=None, ...) had accuracy score = 0.5568181818181818\n"
     ]
    },
    {
     "data": {
      "image/png": "[encoded data removed]",
      "text/plain": [
       "<Figure size 640x480 with 2 Axes>"
      ]
     },
     "metadata": {},
     "output_type": "display_data"
    }
   ],
   "source": [
    "from xgboost import XGBClassifier\n",
    "\n",
    "\n",
    "xgb = XGBClassifier(\n",
    "learning_rate = 0.01,\n",
    "n_estimators=500,\n",
    "max_depth=3)\n",
    "xgb.fit(x_train,y_train)\n",
    "xbg_preds = xgb.predict(x_test)\n",
    "metrics(xgb,xbg_preds)"
   ]
  },
  {
   "cell_type": "code",
   "execution_count": null,
   "id": "2dcaad94",
   "metadata": {},
   "outputs": [],
   "source": []
  },
  {
   "cell_type": "code",
   "execution_count": 54,
   "id": "548b7dd8",
   "metadata": {},
   "outputs": [
    {
     "data": {
      "text/plain": [
       "(9,)"
      ]
     },
     "execution_count": 54,
     "metadata": {},
     "output_type": "execute_result"
    }
   ],
   "source": [
    "x_train[0].shape"
   ]
  },
  {
   "cell_type": "code",
   "execution_count": null,
   "id": "578f6416",
   "metadata": {},
   "outputs": [],
   "source": []
  },
  {
   "cell_type": "code",
   "execution_count": 55,
   "id": "de9b536d",
   "metadata": {},
   "outputs": [
    {
     "name": "stdout",
     "output_type": "stream",
     "text": [
      "WARNING:tensorflow:From C:\\Users\\mplan\\anaconda3\\Lib\\site-packages\\keras\\src\\losses.py:2976: The name tf.losses.sparse_softmax_cross_entropy is deprecated. Please use tf.compat.v1.losses.sparse_softmax_cross_entropy instead.\n",
      "\n"
     ]
    }
   ],
   "source": [
    "import tensorflow as tf\n",
    "\n",
    "\n",
    "from tensorflow.keras.models import Sequential\n",
    "\n",
    "from tensorflow.keras.layers import *"
   ]
  },
  {
   "cell_type": "code",
   "execution_count": 56,
   "id": "29ea5290",
   "metadata": {},
   "outputs": [
    {
     "name": "stdout",
     "output_type": "stream",
     "text": [
      "WARNING:tensorflow:From C:\\Users\\mplan\\anaconda3\\Lib\\site-packages\\keras\\src\\backend.py:873: The name tf.get_default_graph is deprecated. Please use tf.compat.v1.get_default_graph instead.\n",
      "\n",
      "WARNING:tensorflow:From C:\\Users\\mplan\\anaconda3\\Lib\\site-packages\\keras\\src\\optimizers\\__init__.py:309: The name tf.train.Optimizer is deprecated. Please use tf.compat.v1.train.Optimizer instead.\n",
      "\n"
     ]
    }
   ],
   "source": [
    "model = Sequential()\n",
    "model.add(Input(9,))\n",
    "model.add(Dense(10,'relu'))\n",
    "model.add(Dense(1,'sigmoid'))\n",
    "\n",
    "\n",
    "model.compile(optimizer='adam',loss='binary_crossentropy',metrics=['accuracy'])"
   ]
  },
  {
   "cell_type": "code",
   "execution_count": 57,
   "id": "856fd0b2",
   "metadata": {},
   "outputs": [
    {
     "name": "stdout",
     "output_type": "stream",
     "text": [
      "Epoch 1/20\n",
      "WARNING:tensorflow:From C:\\Users\\mplan\\anaconda3\\Lib\\site-packages\\keras\\src\\utils\\tf_utils.py:492: The name tf.ragged.RaggedTensorValue is deprecated. Please use tf.compat.v1.ragged.RaggedTensorValue instead.\n",
      "\n",
      "WARNING:tensorflow:From C:\\Users\\mplan\\anaconda3\\Lib\\site-packages\\keras\\src\\engine\\base_layer_utils.py:384: The name tf.executing_eagerly_outside_functions is deprecated. Please use tf.compat.v1.executing_eagerly_outside_functions instead.\n",
      "\n",
      "626/626 [==============================] - 3s 2ms/step - loss: 0.7041 - accuracy: 0.5362 - val_loss: 0.6829 - val_accuracy: 0.5568\n",
      "Epoch 2/20\n",
      "626/626 [==============================] - 1s 2ms/step - loss: 0.6893 - accuracy: 0.5522 - val_loss: 0.6827 - val_accuracy: 0.5909\n",
      "Epoch 3/20\n",
      "626/626 [==============================] - 1s 2ms/step - loss: 0.6876 - accuracy: 0.5576 - val_loss: 0.6842 - val_accuracy: 0.5909\n",
      "Epoch 4/20\n",
      "626/626 [==============================] - 1s 2ms/step - loss: 0.6866 - accuracy: 0.5597 - val_loss: 0.6845 - val_accuracy: 0.6023\n",
      "Epoch 5/20\n",
      "626/626 [==============================] - 1s 2ms/step - loss: 0.6854 - accuracy: 0.5608 - val_loss: 0.6840 - val_accuracy: 0.6023\n",
      "Epoch 6/20\n",
      "626/626 [==============================] - 1s 2ms/step - loss: 0.6846 - accuracy: 0.5666 - val_loss: 0.6833 - val_accuracy: 0.5909\n",
      "Epoch 7/20\n",
      "626/626 [==============================] - 1s 2ms/step - loss: 0.6844 - accuracy: 0.5576 - val_loss: 0.6856 - val_accuracy: 0.6250\n",
      "Epoch 8/20\n",
      "626/626 [==============================] - 1s 2ms/step - loss: 0.6843 - accuracy: 0.5581 - val_loss: 0.6851 - val_accuracy: 0.6023\n",
      "Epoch 9/20\n",
      "626/626 [==============================] - 1s 2ms/step - loss: 0.6833 - accuracy: 0.5618 - val_loss: 0.6860 - val_accuracy: 0.6136\n",
      "Epoch 10/20\n",
      "626/626 [==============================] - 1s 2ms/step - loss: 0.6833 - accuracy: 0.5618 - val_loss: 0.6851 - val_accuracy: 0.5795\n",
      "Epoch 11/20\n",
      "626/626 [==============================] - 1s 2ms/step - loss: 0.6827 - accuracy: 0.5640 - val_loss: 0.6878 - val_accuracy: 0.6023\n",
      "Epoch 12/20\n",
      "626/626 [==============================] - 1s 2ms/step - loss: 0.6829 - accuracy: 0.5672 - val_loss: 0.6860 - val_accuracy: 0.5909\n",
      "Epoch 13/20\n",
      "626/626 [==============================] - 2s 3ms/step - loss: 0.6823 - accuracy: 0.5613 - val_loss: 0.6865 - val_accuracy: 0.5795\n",
      "Epoch 14/20\n",
      "626/626 [==============================] - 1s 2ms/step - loss: 0.6824 - accuracy: 0.5640 - val_loss: 0.6870 - val_accuracy: 0.5909\n",
      "Epoch 15/20\n",
      "626/626 [==============================] - 1s 2ms/step - loss: 0.6824 - accuracy: 0.5640 - val_loss: 0.6869 - val_accuracy: 0.5568\n",
      "Epoch 16/20\n",
      "626/626 [==============================] - 1s 2ms/step - loss: 0.6814 - accuracy: 0.5677 - val_loss: 0.6886 - val_accuracy: 0.6136\n",
      "Epoch 17/20\n",
      "626/626 [==============================] - 2s 2ms/step - loss: 0.6825 - accuracy: 0.5629 - val_loss: 0.6879 - val_accuracy: 0.5795\n",
      "Epoch 18/20\n",
      "626/626 [==============================] - 1s 2ms/step - loss: 0.6819 - accuracy: 0.5640 - val_loss: 0.6888 - val_accuracy: 0.5568\n",
      "Epoch 19/20\n",
      "626/626 [==============================] - 1s 2ms/step - loss: 0.6819 - accuracy: 0.5656 - val_loss: 0.6897 - val_accuracy: 0.5682\n",
      "Epoch 20/20\n",
      "626/626 [==============================] - 1s 2ms/step - loss: 0.6820 - accuracy: 0.5645 - val_loss: 0.6883 - val_accuracy: 0.5455\n"
     ]
    },
    {
     "data": {
      "text/plain": [
       "<keras.src.callbacks.History at 0x20bc5e48f50>"
      ]
     },
     "execution_count": 57,
     "metadata": {},
     "output_type": "execute_result"
    }
   ],
   "source": [
    "model.fit(x_train,y_train,validation_data=[x_test,y_test],epochs=20,batch_size=3)"
   ]
  },
  {
   "cell_type": "code",
   "execution_count": 58,
   "id": "6d49e57b",
   "metadata": {},
   "outputs": [
    {
     "name": "stdout",
     "output_type": "stream",
     "text": [
      "3/3 [==============================] - 0s 4ms/step\n"
     ]
    }
   ],
   "source": [
    "deep_preds = model.predict(x_test)"
   ]
  },
  {
   "cell_type": "code",
   "execution_count": 59,
   "id": "71167327",
   "metadata": {},
   "outputs": [],
   "source": [
    "deep_preds = deep_preds.flatten()"
   ]
  },
  {
   "cell_type": "code",
   "execution_count": 60,
   "id": "c5a7ba32",
   "metadata": {},
   "outputs": [],
   "source": [
    "tf_preds = []\n",
    "\n",
    "for i in range(len(deep_preds)):\n",
    "    if deep_preds[i] >= 0.5:\n",
    "        tf_preds.append(1)\n",
    "    else:\n",
    "        tf_preds.append(0)"
   ]
  },
  {
   "cell_type": "code",
   "execution_count": 61,
   "id": "b42aa01f",
   "metadata": {},
   "outputs": [
    {
     "name": "stdout",
     "output_type": "stream",
     "text": [
      "estimator <keras.src.engine.sequential.Sequential object at 0x0000020BB62BFB10> had accuracy score = 0.5454545454545454\n"
     ]
    },
    {
     "data": {
      "image/png": "[encoded data removed]",
      "text/plain": [
       "<Figure size 640x480 with 2 Axes>"
      ]
     },
     "metadata": {},
     "output_type": "display_data"
    }
   ],
   "source": [
    "metrics(model, tf_preds)"
   ]
  },
  {
   "cell_type": "code",
   "execution_count": 62,
   "id": "e1c7b2db",
   "metadata": {},
   "outputs": [
    {
     "data": {
      "text/plain": [
       "[[(DecisionTreeClassifier(max_features='sqrt'),\n",
       "   0.4772727272727273,\n",
       "   0.425,\n",
       "   0.3953488372093023,\n",
       "   0.4594594594594595)],\n",
       " [(KNeighborsClassifier(n_neighbors=4),\n",
       "   0.6022727272727273,\n",
       "   0.36363636363636365,\n",
       "   0.5555555555555556,\n",
       "   0.2702702702702703)],\n",
       " [(RandomForestClassifier(min_samples_split=4),\n",
       "   0.5568181818181818,\n",
       "   0.43478260869565216,\n",
       "   0.46875,\n",
       "   0.40540540540540543)],\n",
       " [(LogisticRegression(penalty='l1', solver='liblinear'),\n",
       "   0.5454545454545454,\n",
       "   0.047619047619047616,\n",
       "   0.2,\n",
       "   0.02702702702702703)],\n",
       " [(GaussianNB(),\n",
       "   0.5568181818181818,\n",
       "   0.4507042253521127,\n",
       "   0.47058823529411764,\n",
       "   0.43243243243243246)],\n",
       " [(XGBClassifier(base_score=None, booster=None, callbacks=None,\n",
       "                 colsample_bylevel=None, colsample_bynode=None,\n",
       "                 colsample_bytree=None, device=None, early_stopping_rounds=None,\n",
       "                 enable_categorical=False, eval_metric=None, feature_types=None,\n",
       "                 gamma=None, grow_policy=None, importance_type=None,\n",
       "                 interaction_constraints=None, learning_rate=0.01, max_bin=None,\n",
       "                 max_cat_threshold=None, max_cat_to_onehot=None,\n",
       "                 max_delta_step=None, max_depth=3, max_leaves=None,\n",
       "                 min_child_weight=None, missing=nan, monotone_constraints=None,\n",
       "                 multi_strategy=None, n_estimators=500, n_jobs=None,\n",
       "                 num_parallel_tree=None, random_state=None, ...),\n",
       "   0.5568181818181818,\n",
       "   0.36065573770491804,\n",
       "   0.4583333333333333,\n",
       "   0.2972972972972973)],\n",
       " [(<keras.src.engine.sequential.Sequential at 0x20bb62bfb10>,\n",
       "   0.5454545454545454,\n",
       "   0.2,\n",
       "   0.38461538461538464,\n",
       "   0.13513513513513514)]]"
      ]
     },
     "execution_count": 62,
     "metadata": {},
     "output_type": "execute_result"
    }
   ],
   "source": [
    "history"
   ]
  },
  {
   "cell_type": "code",
   "execution_count": 65,
   "id": "a66646ba",
   "metadata": {},
   "outputs": [
    {
     "data": {
      "text/plain": [
       "(DecisionTreeClassifier(max_features='sqrt'),\n",
       " 0.4772727272727273,\n",
       " 0.425,\n",
       " 0.3953488372093023,\n",
       " 0.4594594594594595)"
      ]
     },
     "execution_count": 65,
     "metadata": {},
     "output_type": "execute_result"
    }
   ],
   "source": [
    "history[0][0]"
   ]
  },
  {
   "cell_type": "code",
   "execution_count": 67,
   "id": "5eb825b9",
   "metadata": {},
   "outputs": [],
   "source": [
    "names = []\n",
    "accuracy = []\n",
    "f1 = []\n",
    "recall = []\n",
    "precision = []\n",
    "\n",
    "\n",
    "for i in range(len(history)):\n",
    "    names.append(history[i][0][0])\n",
    "    accuracy.append(history[i][0][1])\n",
    "    f1.append(history[i][0][2])\n",
    "    recall.append(history[i][0][3])\n",
    "    precision.append(history[i][0][4])\n",
    "    \n",
    "results = pd.DataFrame({'name':names,'accuracy':accuracy,'f1':f1,'recall':recall,'precision':precision})"
   ]
  },
  {
   "cell_type": "code",
   "execution_count": 68,
   "id": "9a882f04",
   "metadata": {},
   "outputs": [],
   "source": [
    "results.sort_values(by='accuracy',ascending=False,inplace=True)"
   ]
  },
  {
   "cell_type": "code",
   "execution_count": 69,
   "id": "596e8659",
   "metadata": {},
   "outputs": [
    {
     "data": {
      "text/html": [
       "<div>\n",
       "<style scoped>\n",
       "    .dataframe tbody tr th:only-of-type {\n",
       "        vertical-align: middle;\n",
       "    }\n",
       "\n",
       "    .dataframe tbody tr th {\n",
       "        vertical-align: top;\n",
       "    }\n",
       "\n",
       "    .dataframe thead th {\n",
       "        text-align: right;\n",
       "    }\n",
       "</style>\n",
       "<table border=\"1\" class=\"dataframe\">\n",
       "  <thead>\n",
       "    <tr style=\"text-align: right;\">\n",
       "      <th></th>\n",
       "      <th>name</th>\n",
       "      <th>accuracy</th>\n",
       "      <th>f1</th>\n",
       "      <th>recall</th>\n",
       "      <th>precision</th>\n",
       "    </tr>\n",
       "  </thead>\n",
       "  <tbody>\n",
       "    <tr>\n",
       "      <th>1</th>\n",
       "      <td>KNeighborsClassifier(n_neighbors=4)</td>\n",
       "      <td>0.602273</td>\n",
       "      <td>0.363636</td>\n",
       "      <td>0.555556</td>\n",
       "      <td>0.270270</td>\n",
       "    </tr>\n",
       "    <tr>\n",
       "      <th>2</th>\n",
       "      <td>(DecisionTreeClassifier(max_features='sqrt', m...</td>\n",
       "      <td>0.556818</td>\n",
       "      <td>0.434783</td>\n",
       "      <td>0.468750</td>\n",
       "      <td>0.405405</td>\n",
       "    </tr>\n",
       "    <tr>\n",
       "      <th>4</th>\n",
       "      <td>GaussianNB()</td>\n",
       "      <td>0.556818</td>\n",
       "      <td>0.450704</td>\n",
       "      <td>0.470588</td>\n",
       "      <td>0.432432</td>\n",
       "    </tr>\n",
       "    <tr>\n",
       "      <th>5</th>\n",
       "      <td>XGBClassifier(base_score=None, booster=None, c...</td>\n",
       "      <td>0.556818</td>\n",
       "      <td>0.360656</td>\n",
       "      <td>0.458333</td>\n",
       "      <td>0.297297</td>\n",
       "    </tr>\n",
       "    <tr>\n",
       "      <th>3</th>\n",
       "      <td>LogisticRegression(penalty='l1', solver='libli...</td>\n",
       "      <td>0.545455</td>\n",
       "      <td>0.047619</td>\n",
       "      <td>0.200000</td>\n",
       "      <td>0.027027</td>\n",
       "    </tr>\n",
       "    <tr>\n",
       "      <th>6</th>\n",
       "      <td>&lt;keras.src.engine.sequential.Sequential object...</td>\n",
       "      <td>0.545455</td>\n",
       "      <td>0.200000</td>\n",
       "      <td>0.384615</td>\n",
       "      <td>0.135135</td>\n",
       "    </tr>\n",
       "    <tr>\n",
       "      <th>7</th>\n",
       "      <td>DecisionTreeClassifier(criterion='log_loss', m...</td>\n",
       "      <td>0.534091</td>\n",
       "      <td>0.422535</td>\n",
       "      <td>0.441176</td>\n",
       "      <td>0.405405</td>\n",
       "    </tr>\n",
       "    <tr>\n",
       "      <th>0</th>\n",
       "      <td>DecisionTreeClassifier(max_features='sqrt')</td>\n",
       "      <td>0.477273</td>\n",
       "      <td>0.425000</td>\n",
       "      <td>0.395349</td>\n",
       "      <td>0.459459</td>\n",
       "    </tr>\n",
       "  </tbody>\n",
       "</table>\n",
       "</div>"
      ],
      "text/plain": [
       "                                                name  accuracy        f1  \\\n",
       "1                KNeighborsClassifier(n_neighbors=4)  0.602273  0.363636   \n",
       "2  (DecisionTreeClassifier(max_features='sqrt', m...  0.556818  0.434783   \n",
       "4                                       GaussianNB()  0.556818  0.450704   \n",
       "5  XGBClassifier(base_score=None, booster=None, c...  0.556818  0.360656   \n",
       "3  LogisticRegression(penalty='l1', solver='libli...  0.545455  0.047619   \n",
       "6  <keras.src.engine.sequential.Sequential object...  0.545455  0.200000   \n",
       "7  DecisionTreeClassifier(criterion='log_loss', m...  0.534091  0.422535   \n",
       "0        DecisionTreeClassifier(max_features='sqrt')  0.477273  0.425000   \n",
       "\n",
       "     recall  precision  \n",
       "1  0.555556   0.270270  \n",
       "2  0.468750   0.405405  \n",
       "4  0.470588   0.432432  \n",
       "5  0.458333   0.297297  \n",
       "3  0.200000   0.027027  \n",
       "6  0.384615   0.135135  \n",
       "7  0.441176   0.405405  \n",
       "0  0.395349   0.459459  "
      ]
     },
     "execution_count": 69,
     "metadata": {},
     "output_type": "execute_result"
    }
   ],
   "source": [
    "results"
   ]
  },
  {
   "cell_type": "code",
   "execution_count": null,
   "id": "dc8799d2",
   "metadata": {},
   "outputs": [],
   "source": []
  },
  {
   "cell_type": "code",
   "execution_count": 75,
   "id": "355ea6ba",
   "metadata": {},
   "outputs": [
    {
     "data": {
      "image/png": "[encoded data removed]",
      "text/plain": [
       "<Figure size 500x300 with 1 Axes>"
      ]
     },
     "metadata": {},
     "output_type": "display_data"
    }
   ],
   "source": [
    "results.iloc[3,0] = 'xgb'\n",
    "\n",
    "\n",
    "import matplotlib.pyplot as plt\n",
    "\n",
    "\n",
    "plt.figure(figsize=(5,3))\n",
    "plt.bar(results['name'].astype('str').values,results['accuracy'].values)\n",
    "plt.xticks(rotation=90)\n",
    "plt.title('Sad Results')\n",
    "plt.show()"
   ]
  },
  {
   "cell_type": "code",
   "execution_count": null,
   "id": "cef9a366",
   "metadata": {},
   "outputs": [],
   "source": []
  }
 ],
 "metadata": {
  "kernelspec": {
   "display_name": "Python 3 (ipykernel)",
   "language": "python",
   "name": "python3"
  },
  "language_info": {
   "codemirror_mode": {
    "name": "ipython",
    "version": 3
   },
   "file_extension": ".py",
   "mimetype": "text/x-python",
   "name": "python",
   "nbconvert_exporter": "python",
   "pygments_lexer": "ipython3",
   "version": "3.11.5"
  }
 },
 "nbformat": 4,
 "nbformat_minor": 5
}
